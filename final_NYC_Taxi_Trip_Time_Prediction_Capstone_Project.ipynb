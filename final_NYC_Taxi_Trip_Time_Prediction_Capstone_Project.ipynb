{
  "nbformat": 4,
  "nbformat_minor": 0,
  "metadata": {
    "kernelspec": {
      "display_name": "Python 3",
      "language": "python",
      "name": "python3"
    },
    "language_info": {
      "codemirror_mode": {
        "name": "ipython",
        "version": 3
      },
      "file_extension": ".py",
      "mimetype": "text/x-python",
      "name": "python",
      "nbconvert_exporter": "python",
      "pygments_lexer": "ipython3",
      "version": "3.6.6"
    },
    "colab": {
      "name": "final_NYC Taxi Trip Time Prediction - Capstone Project.ipynb",
      "provenance": [],
      "collapsed_sections": []
    }
  },
  "cells": [
    {
      "cell_type": "markdown",
      "metadata": {
        "id": "tOGC-qoyhJeX"
      },
      "source": [
        "# <b><u> Project Title : Taxi trip time Prediction : Predicting total ride duration of taxi trips in New York City</u></b>"
      ]
    },
    {
      "cell_type": "markdown",
      "metadata": {
        "id": "Y06xIdG26kRF"
      },
      "source": [
        "## <b> Problem Description </b>\n",
        "\n",
        "### Your task is to build a model that predicts the total ride duration of taxi trips in New York City. Your primary dataset is one released by the NYC Taxi and Limousine Commission, which includes pickup time, geo-coordinates, number of passengers, and several other variables."
      ]
    },
    {
      "cell_type": "markdown",
      "metadata": {
        "id": "WWeU1f9bwqQq"
      },
      "source": [
        "## <b> Data Description </b>\n",
        "\n",
        "### The dataset is based on the 2016 NYC Yellow Cab trip record data made available in Big Query on Google Cloud Platform. The data was originally published by the NYC Taxi and Limousine Commission (TLC). The data was sampled and cleaned for the purposes of this project. Based on individual trip attributes, you should predict the duration of each trip in the test set.\n",
        "\n",
        "### <b>NYC Taxi Data.csv</b> - the training set (contains 1458644 trip records)\n",
        "\n",
        "\n",
        "### Data fields\n",
        "* #### id - a unique identifier for each trip\n",
        "* #### vendor_id - a code indicating the provider associated with the trip record\n",
        "* #### pickup_datetime - date and time when the meter was engaged\n",
        "* #### dropoff_datetime - date and time when the meter was disengaged\n",
        "* #### passenger_count - the number of passengers in the vehicle (driver entered value)\n",
        "* #### pickup_longitude - the longitude where the meter was engaged\n",
        "* #### pickup_latitude - the latitude where the meter was engaged\n",
        "* #### dropoff_longitude - the longitude where the meter was disengaged\n",
        "* #### dropoff_latitude - the latitude where the meter was disengaged\n",
        "* #### store_and_fwd_flag - This flag indicates whether the trip record was held in vehicle memory before sending to the vendor because the vehicle did not have a connection to the server - Y=store and forward; N=not a store and forward trip\n",
        "* #### trip_duration - duration of the trip in seconds"
      ]
    },
    {
      "cell_type": "code",
      "metadata": {
        "id": "dByMsuzT8Tnw"
      },
      "source": [
        "import pandas as pd\n",
        "import numpy as np\n",
        "import seaborn as sns\n",
        "import matplotlib.pyplot as plt"
      ],
      "execution_count": 1,
      "outputs": []
    },
    {
      "cell_type": "code",
      "source": [
        "from google.colab import drive\n",
        "drive.mount('/content/drive')"
      ],
      "metadata": {
        "colab": {
          "base_uri": "https://localhost:8080/"
        },
        "id": "RPrrS4UD6Olu",
        "outputId": "97de5906-d3ea-4ec7-b6c0-b4fd5e2f535f"
      },
      "execution_count": 2,
      "outputs": [
        {
          "output_type": "stream",
          "name": "stdout",
          "text": [
            "Mounted at /content/drive\n"
          ]
        }
      ]
    },
    {
      "cell_type": "code",
      "source": [
        "##reading file\n",
        "df=pd.read_csv(\"/content/drive/MyDrive/NYC Taxi Data.csv\")"
      ],
      "metadata": {
        "id": "5j0jZxos7Rbr"
      },
      "execution_count": 3,
      "outputs": []
    },
    {
      "cell_type": "code",
      "source": [
        "df.shape"
      ],
      "metadata": {
        "colab": {
          "base_uri": "https://localhost:8080/"
        },
        "id": "zb-7210l7c9R",
        "outputId": "96c1ebf0-38fa-4c8e-827e-221ccc249f66"
      },
      "execution_count": 4,
      "outputs": [
        {
          "output_type": "execute_result",
          "data": {
            "text/plain": [
              "(1458644, 11)"
            ]
          },
          "metadata": {},
          "execution_count": 4
        }
      ]
    },
    {
      "cell_type": "code",
      "source": [
        "#checking data types\n",
        "df.info()"
      ],
      "metadata": {
        "colab": {
          "base_uri": "https://localhost:8080/"
        },
        "id": "qypOVscZ7qeR",
        "outputId": "58052365-b082-412d-ea88-adaefc63ebdc"
      },
      "execution_count": 5,
      "outputs": [
        {
          "output_type": "stream",
          "name": "stdout",
          "text": [
            "<class 'pandas.core.frame.DataFrame'>\n",
            "RangeIndex: 1458644 entries, 0 to 1458643\n",
            "Data columns (total 11 columns):\n",
            " #   Column              Non-Null Count    Dtype  \n",
            "---  ------              --------------    -----  \n",
            " 0   id                  1458644 non-null  object \n",
            " 1   vendor_id           1458644 non-null  int64  \n",
            " 2   pickup_datetime     1458644 non-null  object \n",
            " 3   dropoff_datetime    1458644 non-null  object \n",
            " 4   passenger_count     1458644 non-null  int64  \n",
            " 5   pickup_longitude    1458644 non-null  float64\n",
            " 6   pickup_latitude     1458644 non-null  float64\n",
            " 7   dropoff_longitude   1458644 non-null  float64\n",
            " 8   dropoff_latitude    1458644 non-null  float64\n",
            " 9   store_and_fwd_flag  1458644 non-null  object \n",
            " 10  trip_duration       1458644 non-null  int64  \n",
            "dtypes: float64(4), int64(3), object(4)\n",
            "memory usage: 122.4+ MB\n"
          ]
        }
      ]
    },
    {
      "cell_type": "code",
      "source": [
        "df.isnull().sum()"
      ],
      "metadata": {
        "colab": {
          "base_uri": "https://localhost:8080/"
        },
        "id": "P8Pn_uSW7uD7",
        "outputId": "ddb3c9d6-13c2-4bd6-9a3c-31b2a4405a78"
      },
      "execution_count": 6,
      "outputs": [
        {
          "output_type": "execute_result",
          "data": {
            "text/plain": [
              "id                    0\n",
              "vendor_id             0\n",
              "pickup_datetime       0\n",
              "dropoff_datetime      0\n",
              "passenger_count       0\n",
              "pickup_longitude      0\n",
              "pickup_latitude       0\n",
              "dropoff_longitude     0\n",
              "dropoff_latitude      0\n",
              "store_and_fwd_flag    0\n",
              "trip_duration         0\n",
              "dtype: int64"
            ]
          },
          "metadata": {},
          "execution_count": 6
        }
      ]
    },
    {
      "cell_type": "markdown",
      "source": [
        "no null values present"
      ],
      "metadata": {
        "id": "W7RAMHXa73FC"
      }
    },
    {
      "cell_type": "markdown",
      "source": [
        "**EDA & Data Preprocessing**"
      ],
      "metadata": {
        "id": "6g3abe_d79J9"
      }
    },
    {
      "cell_type": "code",
      "source": [
        "plt.figure(figsize=(8,8))\n",
        "sns.countplot(df['vendor_id'],palette='Dark2')\n",
        "plt.title(\"Vendor_Id\")\n",
        "\n"
      ],
      "metadata": {
        "colab": {
          "base_uri": "https://localhost:8080/",
          "height": 586
        },
        "id": "rSBBOG2d7yh6",
        "outputId": "e51dc2f1-abd6-438d-d491-8aa9c6c0a5f4"
      },
      "execution_count": 7,
      "outputs": [
        {
          "output_type": "stream",
          "name": "stderr",
          "text": [
            "/usr/local/lib/python3.7/dist-packages/seaborn/_decorators.py:43: FutureWarning: Pass the following variable as a keyword arg: x. From version 0.12, the only valid positional argument will be `data`, and passing other arguments without an explicit keyword will result in an error or misinterpretation.\n",
            "  FutureWarning\n"
          ]
        },
        {
          "output_type": "execute_result",
          "data": {
            "text/plain": [
              "Text(0.5, 1.0, 'Vendor_Id')"
            ]
          },
          "metadata": {},
          "execution_count": 7
        },
        {
          "output_type": "display_data",
          "data": {
            "text/plain": [
              "<Figure size 576x576 with 1 Axes>"
            ],
            "image/png": "[encoded data removed]"
          },
          "metadata": {
            "needs_background": "light"
          }
        }
      ]
    },
    {
      "cell_type": "markdown",
      "source": [
        "from above visualiztion it is clear that there are two service provider and second one is most by demanded\n",
        "\n"
      ],
      "metadata": {
        "id": "pNhR9t0B8ReI"
      }
    },
    {
      "cell_type": "code",
      "source": [
        "from sklearn.preprocessing  import LabelEncoder\n",
        "le=LabelEncoder()\n",
        "df['store_and_fwd_flag'] = le.fit_transform(df['store_and_fwd_flag'])"
      ],
      "metadata": {
        "id": "zzvppbCg8Mmk"
      },
      "execution_count": 8,
      "outputs": []
    },
    {
      "cell_type": "code",
      "source": [
        "df.head()"
      ],
      "metadata": {
        "colab": {
          "base_uri": "https://localhost:8080/",
          "height": 357
        },
        "id": "JWhwcsGK8WOh",
        "outputId": "ec41b5c8-ce99-4e8a-d19f-90325b2f7b83"
      },
      "execution_count": 9,
      "outputs": [
        {
          "output_type": "execute_result",
          "data": {
            "text/plain": [
              "          id  vendor_id      pickup_datetime     dropoff_datetime  \\\n",
              "0  id2875421          2  2016-03-14 17:24:55  2016-03-14 17:32:30   \n",
              "1  id2377394          1  2016-06-12 00:43:35  2016-06-12 00:54:38   \n",
              "2  id3858529          2  2016-01-19 11:35:24  2016-01-19 12:10:48   \n",
              "3  id3504673          2  2016-04-06 19:32:31  2016-04-06 19:39:40   \n",
              "4  id2181028          2  2016-03-26 13:30:55  2016-03-26 13:38:10   \n",
              "\n",
              "   passenger_count  pickup_longitude  pickup_latitude  dropoff_longitude  \\\n",
              "0                1        -73.982155        40.767937         -73.964630   \n",
              "1                1        -73.980415        40.738564         -73.999481   \n",
              "2                1        -73.979027        40.763939         -74.005333   \n",
              "3                1        -74.010040        40.719971         -74.012268   \n",
              "4                1        -73.973053        40.793209         -73.972923   \n",
              "\n",
              "   dropoff_latitude  store_and_fwd_flag  trip_duration  \n",
              "0         40.765602                   0            455  \n",
              "1         40.731152                   0            663  \n",
              "2         40.710087                   0           2124  \n",
              "3         40.706718                   0            429  \n",
              "4         40.782520                   0            435  "
            ],
            "text/html": [
              "\n",
              "  <div id=\"df-40719591-6bd4-40d9-930b-ba1974a4eaad\">\n",
              "    <div class=\"colab-df-container\">\n",
              "      <div>\n",
              "<style scoped>\n",
              "    .dataframe tbody tr th:only-of-type {\n",
              "        vertical-align: middle;\n",
              "    }\n",
              "\n",
              "    .dataframe tbody tr th {\n",
              "        vertical-align: top;\n",
              "    }\n",
              "\n",
              "    .dataframe thead th {\n",
              "        text-align: right;\n",
              "    }\n",
              "</style>\n",
              "<table border=\"1\" class=\"dataframe\">\n",
              "  <thead>\n",
              "    <tr style=\"text-align: right;\">\n",
              "      <th></th>\n",
              "      <th>id</th>\n",
              "      <th>vendor_id</th>\n",
              "      <th>pickup_datetime</th>\n",
              "      <th>dropoff_datetime</th>\n",
              "      <th>passenger_count</th>\n",
              "      <th>pickup_longitude</th>\n",
              "      <th>pickup_latitude</th>\n",
              "      <th>dropoff_longitude</th>\n",
              "      <th>dropoff_latitude</th>\n",
              "      <th>store_and_fwd_flag</th>\n",
              "      <th>trip_duration</th>\n",
              "    </tr>\n",
              "  </thead>\n",
              "  <tbody>\n",
              "    <tr>\n",
              "      <th>0</th>\n",
              "      <td>id2875421</td>\n",
              "      <td>2</td>\n",
              "      <td>2016-03-14 17:24:55</td>\n",
              "      <td>2016-03-14 17:32:30</td>\n",
              "      <td>1</td>\n",
              "      <td>-73.982155</td>\n",
              "      <td>40.767937</td>\n",
              "      <td>-73.964630</td>\n",
              "      <td>40.765602</td>\n",
              "      <td>0</td>\n",
              "      <td>455</td>\n",
              "    </tr>\n",
              "    <tr>\n",
              "      <th>1</th>\n",
              "      <td>id2377394</td>\n",
              "      <td>1</td>\n",
              "      <td>2016-06-12 00:43:35</td>\n",
              "      <td>2016-06-12 00:54:38</td>\n",
              "      <td>1</td>\n",
              "      <td>-73.980415</td>\n",
              "      <td>40.738564</td>\n",
              "      <td>-73.999481</td>\n",
              "      <td>40.731152</td>\n",
              "      <td>0</td>\n",
              "      <td>663</td>\n",
              "    </tr>\n",
              "    <tr>\n",
              "      <th>2</th>\n",
              "      <td>id3858529</td>\n",
              "      <td>2</td>\n",
              "      <td>2016-01-19 11:35:24</td>\n",
              "      <td>2016-01-19 12:10:48</td>\n",
              "      <td>1</td>\n",
              "      <td>-73.979027</td>\n",
              "      <td>40.763939</td>\n",
              "      <td>-74.005333</td>\n",
              "      <td>40.710087</td>\n",
              "      <td>0</td>\n",
              "      <td>2124</td>\n",
              "    </tr>\n",
              "    <tr>\n",
              "      <th>3</th>\n",
              "      <td>id3504673</td>\n",
              "      <td>2</td>\n",
              "      <td>2016-04-06 19:32:31</td>\n",
              "      <td>2016-04-06 19:39:40</td>\n",
              "      <td>1</td>\n",
              "      <td>-74.010040</td>\n",
              "      <td>40.719971</td>\n",
              "      <td>-74.012268</td>\n",
              "      <td>40.706718</td>\n",
              "      <td>0</td>\n",
              "      <td>429</td>\n",
              "    </tr>\n",
              "    <tr>\n",
              "      <th>4</th>\n",
              "      <td>id2181028</td>\n",
              "      <td>2</td>\n",
              "      <td>2016-03-26 13:30:55</td>\n",
              "      <td>2016-03-26 13:38:10</td>\n",
              "      <td>1</td>\n",
              "      <td>-73.973053</td>\n",
              "      <td>40.793209</td>\n",
              "      <td>-73.972923</td>\n",
              "      <td>40.782520</td>\n",
              "      <td>0</td>\n",
              "      <td>435</td>\n",
              "    </tr>\n",
              "  </tbody>\n",
              "</table>\n",
              "</div>\n",
              "      <button class=\"colab-df-convert\" onclick=\"convertToInteractive('df-40719591-6bd4-40d9-930b-ba1974a4eaad')\"\n",
              "              title=\"Convert this dataframe to an interactive table.\"\n",
              "              style=\"display:none;\">\n",
              "        \n",
              "  <svg xmlns=\"http://www.w3.org/2000/svg\" height=\"24px\"viewBox=\"0 0 24 24\"\n",
              "       width=\"24px\">\n",
              "    <path d=\"M0 0h24v24H0V0z\" fill=\"none\"/>\n",
              "    <path d=\"M18.56 5.44l.94 2.06.94-2.06 2.06-.94-2.06-.94-.94-2.06-.94 2.06-2.06.94zm-11 1L8.5 8.5l.94-2.06 2.06-.94-2.06-.94L8.5 2.5l-.94 2.06-2.06.94zm10 10l.94 2.06.94-2.06 2.06-.94-2.06-.94-.94-2.06-.94 2.06-2.06.94z\"/><path d=\"M17.41 7.96l-1.37-1.37c-.4-.4-.92-.59-1.43-.59-.52 0-1.04.2-1.43.59L10.3 9.45l-7.72 7.72c-.78.78-.78 2.05 0 2.83L4 21.41c.39.39.9.59 1.41.59.51 0 1.02-.2 1.41-.59l7.78-7.78 2.81-2.81c.8-.78.8-2.07 0-2.86zM5.41 20L4 18.59l7.72-7.72 1.47 1.35L5.41 20z\"/>\n",
              "  </svg>\n",
              "      </button>\n",
              "      \n",
              "  <style>\n",
              "    .colab-df-container {\n",
              "      display:flex;\n",
              "      flex-wrap:wrap;\n",
              "      gap: 12px;\n",
              "    }\n",
              "\n",
              "    .colab-df-convert {\n",
              "      background-color: #E8F0FE;\n",
              "      border: none;\n",
              "      border-radius: 50%;\n",
              "      cursor: pointer;\n",
              "      display: none;\n",
              "      fill: #1967D2;\n",
              "      height: 32px;\n",
              "      padding: 0 0 0 0;\n",
              "      width: 32px;\n",
              "    }\n",
              "\n",
              "    .colab-df-convert:hover {\n",
              "      background-color: #E2EBFA;\n",
              "      box-shadow: 0px 1px 2px rgba(60, 64, 67, 0.3), 0px 1px 3px 1px rgba(60, 64, 67, 0.15);\n",
              "      fill: #174EA6;\n",
              "    }\n",
              "\n",
              "    [theme=dark] .colab-df-convert {\n",
              "      background-color: #3B4455;\n",
              "      fill: #D2E3FC;\n",
              "    }\n",
              "\n",
              "    [theme=dark] .colab-df-convert:hover {\n",
              "      background-color: #434B5C;\n",
              "      box-shadow: 0px 1px 3px 1px rgba(0, 0, 0, 0.15);\n",
              "      filter: drop-shadow(0px 1px 2px rgba(0, 0, 0, 0.3));\n",
              "      fill: #FFFFFF;\n",
              "    }\n",
              "  </style>\n",
              "\n",
              "      <script>\n",
              "        const buttonEl =\n",
              "          document.querySelector('#df-40719591-6bd4-40d9-930b-ba1974a4eaad button.colab-df-convert');\n",
              "        buttonEl.style.display =\n",
              "          google.colab.kernel.accessAllowed ? 'block' : 'none';\n",
              "\n",
              "        async function convertToInteractive(key) {\n",
              "          const element = document.querySelector('#df-40719591-6bd4-40d9-930b-ba1974a4eaad');\n",
              "          const dataTable =\n",
              "            await google.colab.kernel.invokeFunction('convertToInteractive',\n",
              "                                                     [key], {});\n",
              "          if (!dataTable) return;\n",
              "\n",
              "          const docLinkHtml = 'Like what you see? Visit the ' +\n",
              "            '<a target=\"_blank\" href=https://colab.research.google.com/notebooks/data_table.ipynb>data table notebook</a>'\n",
              "            + ' to learn more about interactive tables.';\n",
              "          element.innerHTML = '';\n",
              "          dataTable['output_type'] = 'display_data';\n",
              "          await google.colab.output.renderOutput(dataTable, element);\n",
              "          const docLink = document.createElement('div');\n",
              "          docLink.innerHTML = docLinkHtml;\n",
              "          element.appendChild(docLink);\n",
              "        }\n",
              "      </script>\n",
              "    </div>\n",
              "  </div>\n",
              "  "
            ]
          },
          "metadata": {},
          "execution_count": 9
        }
      ]
    },
    {
      "cell_type": "code",
      "source": [
        "plt.figure(figsize=(25,10))\n",
        "sns.heatmap(df.describe()[1:], annot=True, cmap='gist_earth')\n",
        "plt.title(\"Discribtive stats\")"
      ],
      "metadata": {
        "colab": {
          "base_uri": "https://localhost:8080/",
          "height": 575
        },
        "id": "oINPcQ828aKz",
        "outputId": "5610d55d-f86e-4538-d04f-c1f29c60de1b"
      },
      "execution_count": 10,
      "outputs": [
        {
          "output_type": "execute_result",
          "data": {
            "text/plain": [
              "Text(0.5, 1.0, 'Discribtive stats')"
            ]
          },
          "metadata": {},
          "execution_count": 10
        },
        {
          "output_type": "display_data",
          "data": {
            "text/plain": [
              "<Figure size 1800x720 with 2 Axes>"
            ],
            "image/png": "[encoded data removed]"
          },
          "metadata": {
            "needs_background": "light"
          }
        }
      ]
    },
    {
      "cell_type": "markdown",
      "source": [
        "We can observe that there were trips having 0 passengers which we can consider as false trip. Also, there are trips having trip duration upto 3526282 seconds (Approx. 980 hours) which is kind of impossible in a day.\n",
        "\n"
      ],
      "metadata": {
        "id": "M-FnwXCH8kts"
      }
    },
    {
      "cell_type": "code",
      "source": [
        "##trip duration is our target variable\n",
        "plt.figure(figsize=(20,5))\n",
        "sns.boxplot(df['trip_duration'])"
      ],
      "metadata": {
        "colab": {
          "base_uri": "https://localhost:8080/",
          "height": 407
        },
        "id": "YGJiTSrC8d_c",
        "outputId": "860aa054-3478-4bca-b709-90043f9c781c"
      },
      "execution_count": 11,
      "outputs": [
        {
          "output_type": "stream",
          "name": "stderr",
          "text": [
            "/usr/local/lib/python3.7/dist-packages/seaborn/_decorators.py:43: FutureWarning: Pass the following variable as a keyword arg: x. From version 0.12, the only valid positional argument will be `data`, and passing other arguments without an explicit keyword will result in an error or misinterpretation.\n",
            "  FutureWarning\n"
          ]
        },
        {
          "output_type": "execute_result",
          "data": {
            "text/plain": [
              "<matplotlib.axes._subplots.AxesSubplot at 0x7ff3b48195d0>"
            ]
          },
          "metadata": {},
          "execution_count": 11
        },
        {
          "output_type": "display_data",
          "data": {
            "text/plain": [
              "<Figure size 1440x360 with 1 Axes>"
            ],
            "image/png": "[encoded data removed]"
          },
          "metadata": {
            "needs_background": "light"
          }
        }
      ]
    },
    {
      "cell_type": "markdown",
      "source": [
        "Probably in this visualization we can clearly see some outliers , their trips are lasting between 1900000 seconds to somewhere around 3500000 seconds which is impossible in case of taxi trips , How can a taxi trip be that long ? we need to remove outliers\n",
        "\n"
      ],
      "metadata": {
        "id": "XAcNA4qq8ucZ"
      }
    },
    {
      "cell_type": "code",
      "source": [
        "plt.figure(figsize=(20,5))\n",
        "sns.boxplot(df['passenger_count'], color='maroon')\n",
        "plt.title('Passenger Count Distribution')"
      ],
      "metadata": {
        "colab": {
          "base_uri": "https://localhost:8080/",
          "height": 422
        },
        "id": "6MR39Eun8pOx",
        "outputId": "8453b510-e26a-4e7b-a2f3-49a6be95c6b1"
      },
      "execution_count": 12,
      "outputs": [
        {
          "output_type": "stream",
          "name": "stderr",
          "text": [
            "/usr/local/lib/python3.7/dist-packages/seaborn/_decorators.py:43: FutureWarning: Pass the following variable as a keyword arg: x. From version 0.12, the only valid positional argument will be `data`, and passing other arguments without an explicit keyword will result in an error or misinterpretation.\n",
            "  FutureWarning\n"
          ]
        },
        {
          "output_type": "execute_result",
          "data": {
            "text/plain": [
              "Text(0.5, 1.0, 'Passenger Count Distribution')"
            ]
          },
          "metadata": {},
          "execution_count": 12
        },
        {
          "output_type": "display_data",
          "data": {
            "text/plain": [
              "<Figure size 1440x360 with 1 Axes>"
            ],
            "image/png": "[encoded data removed]"
          },
          "metadata": {
            "needs_background": "light"
          }
        }
      ]
    },
    {
      "cell_type": "markdown",
      "source": [
        "Most number of trips are done by 1-2 passenger(s). But one thing is Interesting to observe, there exist trip with Zero passengers, was that a free ride ? Or just a False data recorded ? Above 4 Passengers Indicate that the cab must be larger sized."
      ],
      "metadata": {
        "id": "DIfzg4R786ga"
      }
    },
    {
      "cell_type": "code",
      "source": [
        "##so to remove outlier we wil take log transformation\n",
        "plt.figure(figsize=(10,8))\n",
        "sns.distplot(np.log(df['trip_duration']), kde=False, color='black')\n",
        "plt.title(\"Log Transformed - Trip Duration\")"
      ],
      "metadata": {
        "colab": {
          "base_uri": "https://localhost:8080/",
          "height": 586
        },
        "id": "8wADsvbo8yf5",
        "outputId": "73feea84-7ead-464b-e106-4e1a18fc5bdc"
      },
      "execution_count": 13,
      "outputs": [
        {
          "output_type": "stream",
          "name": "stderr",
          "text": [
            "/usr/local/lib/python3.7/dist-packages/seaborn/distributions.py:2619: FutureWarning: `distplot` is a deprecated function and will be removed in a future version. Please adapt your code to use either `displot` (a figure-level function with similar flexibility) or `histplot` (an axes-level function for histograms).\n",
            "  warnings.warn(msg, FutureWarning)\n"
          ]
        },
        {
          "output_type": "execute_result",
          "data": {
            "text/plain": [
              "Text(0.5, 1.0, 'Log Transformed - Trip Duration')"
            ]
          },
          "metadata": {},
          "execution_count": 13
        },
        {
          "output_type": "display_data",
          "data": {
            "text/plain": [
              "<Figure size 720x576 with 1 Axes>"
            ],
            "image/png": "[encoded data removed]"
          },
          "metadata": {
            "needs_background": "light"
          }
        }
      ]
    },
    {
      "cell_type": "code",
      "source": [
        "#Passenger count\n",
        "\n",
        "plt.figure(figsize=(10,7))\n",
        "sns.countplot(df['passenger_count'], palette='pastel')"
      ],
      "metadata": {
        "colab": {
          "base_uri": "https://localhost:8080/",
          "height": 526
        },
        "id": "H9-i-wYH8_vo",
        "outputId": "12dee2fc-02cc-4c8e-c362-c60cad1f5252"
      },
      "execution_count": 14,
      "outputs": [
        {
          "output_type": "stream",
          "name": "stderr",
          "text": [
            "/usr/local/lib/python3.7/dist-packages/seaborn/_decorators.py:43: FutureWarning: Pass the following variable as a keyword arg: x. From version 0.12, the only valid positional argument will be `data`, and passing other arguments without an explicit keyword will result in an error or misinterpretation.\n",
            "  FutureWarning\n"
          ]
        },
        {
          "output_type": "execute_result",
          "data": {
            "text/plain": [
              "<matplotlib.axes._subplots.AxesSubplot at 0x7ff3b7044d10>"
            ]
          },
          "metadata": {},
          "execution_count": 14
        },
        {
          "output_type": "display_data",
          "data": {
            "text/plain": [
              "<Figure size 720x504 with 1 Axes>"
            ],
            "image/png": "[encoded data removed]"
          },
          "metadata": {
            "needs_background": "light"
          }
        }
      ]
    },
    {
      "cell_type": "markdown",
      "source": [
        "Above viz. tells us that there were most number of trips are done by Single passenger. 5 - 9 passengers trip states us that cab must be a Large vehicle."
      ],
      "metadata": {
        "id": "6UJhMNXh9Gjd"
      }
    },
    {
      "cell_type": "markdown",
      "source": [
        "**feature engineering**"
      ],
      "metadata": {
        "id": "79WkyStM9KjZ"
      }
    },
    {
      "cell_type": "code",
      "source": [
        "#Extracting day, month, date, hour, mins, weekday from datetime\n",
        "df['pickup_datetime'] = pd.to_datetime(df['pickup_datetime'])\n",
        "df['dropoff_datetime'] = pd.to_datetime(df['dropoff_datetime'])\n",
        "\n",
        "df['pickup_day'] = df['pickup_datetime'].dt.day\n",
        "df['pickup_month'] = df['pickup_datetime'].dt.month\n",
        "df['pickup_date'] = df['pickup_datetime'].dt.date\n",
        "df['pickup_hour'] = df['pickup_datetime'].dt.hour\n",
        "df['pickup_min'] = df['pickup_datetime'].dt.minute\n",
        "df['pickup_weekday'] = df['pickup_datetime'].dt.weekday\n",
        "\n",
        "df['dropoff_min'] = df['dropoff_datetime'].dt.minute"
      ],
      "metadata": {
        "id": "m1VlVVbM9C15"
      },
      "execution_count": 15,
      "outputs": []
    },
    {
      "cell_type": "code",
      "source": [
        "#monthly trips exploration\n",
        "\n",
        "plt.figure(figsize=(10,7))\n",
        "sns.countplot(df['pickup_month'], palette='Accent')\n",
        "plt.xticks([0,1,2,3,4,5], labels=['Jan','Feb','March','April','May','June'], rotation=90)\n",
        "plt.title('Overall Monthly trips')"
      ],
      "metadata": {
        "colab": {
          "base_uri": "https://localhost:8080/",
          "height": 552
        },
        "id": "QZh9WHyv9R6q",
        "outputId": "20dd52f0-3ba0-4bb3-f671-d9a4afd968df"
      },
      "execution_count": 16,
      "outputs": [
        {
          "output_type": "stream",
          "name": "stderr",
          "text": [
            "/usr/local/lib/python3.7/dist-packages/seaborn/_decorators.py:43: FutureWarning: Pass the following variable as a keyword arg: x. From version 0.12, the only valid positional argument will be `data`, and passing other arguments without an explicit keyword will result in an error or misinterpretation.\n",
            "  FutureWarning\n"
          ]
        },
        {
          "output_type": "execute_result",
          "data": {
            "text/plain": [
              "Text(0.5, 1.0, 'Overall Monthly trips')"
            ]
          },
          "metadata": {},
          "execution_count": 16
        },
        {
          "output_type": "display_data",
          "data": {
            "text/plain": [
              "<Figure size 720x504 with 1 Axes>"
            ],
            "image/png": "[encoded data removed]"
          },
          "metadata": {
            "needs_background": "light"
          }
        }
      ]
    },
    {
      "cell_type": "markdown",
      "source": [
        "We've data of 6 months. Number of trips in a particular month - March and April marking the highest. January being lowest."
      ],
      "metadata": {
        "id": "HpgPviXe9cW5"
      }
    },
    {
      "cell_type": "code",
      "source": [
        "#Analyzing hourly pickups\n",
        "\n",
        "plt.figure(figsize=(20,5))\n",
        "pickup_hour = df['pickup_hour'].value_counts()\n",
        "pickup_hour.sort_index().plot(kind='bar', color='gold')\n",
        "plt.title(\"Hourly Pickups\")"
      ],
      "metadata": {
        "colab": {
          "base_uri": "https://localhost:8080/",
          "height": 353
        },
        "id": "KpfO9rCS9WaX",
        "outputId": "e568829f-9805-4c42-fafb-e8d48687c205"
      },
      "execution_count": 17,
      "outputs": [
        {
          "output_type": "execute_result",
          "data": {
            "text/plain": [
              "Text(0.5, 1.0, 'Hourly Pickups')"
            ]
          },
          "metadata": {},
          "execution_count": 17
        },
        {
          "output_type": "display_data",
          "data": {
            "text/plain": [
              "<Figure size 1440x360 with 1 Axes>"
            ],
            "image/png": "[encoded data removed]"
          },
          "metadata": {
            "needs_background": "light"
          }
        }
      ]
    },
    {
      "cell_type": "code",
      "source": [
        "#Analyzing week day trips\n",
        "\n",
        "plt.figure(figsize=(10,7))\n",
        "pickup_week = df['pickup_weekday'].value_counts()\n",
        "pickup_week.sort_index().plot(kind='bar', color='maroon')\n",
        "plt.xticks(ticks=[0,1,2,3,4,5,6], labels=['Monday', 'Tuesday', 'Wednesday', 'Thursday', 'Friday', 'Saturday', 'Sunday'], rotation=90)\n",
        "plt.title('Overall Week day Trips')"
      ],
      "metadata": {
        "colab": {
          "base_uri": "https://localhost:8080/",
          "height": 509
        },
        "id": "uDK-a-Og9hKc",
        "outputId": "7bd9e9cc-5f7c-4640-ec8d-0da7f0660b0b"
      },
      "execution_count": 18,
      "outputs": [
        {
          "output_type": "execute_result",
          "data": {
            "text/plain": [
              "Text(0.5, 1.0, 'Overall Week day Trips')"
            ]
          },
          "metadata": {},
          "execution_count": 18
        },
        {
          "output_type": "display_data",
          "data": {
            "text/plain": [
              "<Figure size 720x504 with 1 Axes>"
            ],
            "image/png": "[encoded data removed]"
          },
          "metadata": {
            "needs_background": "light"
          }
        }
      ]
    },
    {
      "cell_type": "markdown",
      "source": [
        "Observations tells us that Fridays and Saturdays are those days in a week when New Yorkers prefer to rome in the city."
      ],
      "metadata": {
        "id": "nYNvcGrF9pA_"
      }
    },
    {
      "cell_type": "code",
      "source": [
        "#Examining Daily trip\n",
        "\n",
        "plt.figure(figsize=(20,15))\n",
        "df['pickup_day'].value_counts().plot(color=\"black\", marker=\"+\")\n",
        "plt.title('Daily Trips Plot')"
      ],
      "metadata": {
        "colab": {
          "base_uri": "https://localhost:8080/",
          "height": 889
        },
        "id": "61GDyjb39knS",
        "outputId": "52ff8965-20dc-4766-c241-bd58ba8e9c0e"
      },
      "execution_count": 19,
      "outputs": [
        {
          "output_type": "execute_result",
          "data": {
            "text/plain": [
              "Text(0.5, 1.0, 'Daily Trips Plot')"
            ]
          },
          "metadata": {},
          "execution_count": 19
        },
        {
          "output_type": "display_data",
          "data": {
            "text/plain": [
              "<Figure size 1440x1080 with 1 Axes>"
            ],
            "image/png": "[encoded data removed]"
          },
          "metadata": {
            "needs_background": "light"
          }
        }
      ]
    },
    {
      "cell_type": "markdown",
      "source": [
        "Seem like New Yorker’s do not prefer to get a Taxi on Month end’s , there is a significant drop in the Taxi trip count as month end’s approach."
      ],
      "metadata": {
        "id": "m6puzzy4-R8d"
      }
    },
    {
      "cell_type": "markdown",
      "source": [
        "**Correlation Heatmap**"
      ],
      "metadata": {
        "id": "yKhzwj4W-X3y"
      }
    },
    {
      "cell_type": "code",
      "source": [
        "#Plotting Pearson Correlation heatmap\n",
        "\n",
        "plt.figure(figsize=(20,10))\n",
        "sns.heatmap(df.corr()*100, annot=True, cmap='inferno')\n",
        "plt.title('Correlation Plot')"
      ],
      "metadata": {
        "colab": {
          "base_uri": "https://localhost:8080/",
          "height": 710
        },
        "id": "AdwSMNxn-Jn5",
        "outputId": "ffc581c0-f37c-449b-8948-76db299ab218"
      },
      "execution_count": 20,
      "outputs": [
        {
          "output_type": "execute_result",
          "data": {
            "text/plain": [
              "Text(0.5, 1.0, 'Correlation Plot')"
            ]
          },
          "metadata": {},
          "execution_count": 20
        },
        {
          "output_type": "display_data",
          "data": {
            "text/plain": [
              "<Figure size 1440x720 with 2 Axes>"
            ],
            "image/png": "[encoded data removed]"
          },
          "metadata": {
            "needs_background": "light"
          }
        }
      ]
    },
    {
      "cell_type": "code",
      "source": [
        "#dropping unwanted columns\n",
        "\n",
        "nyc_taxi_df = df.drop(['id','pickup_datetime','pickup_date','dropoff_datetime'], axis=1)\n",
        "nyc_taxi_df.head()"
      ],
      "metadata": {
        "colab": {
          "base_uri": "https://localhost:8080/",
          "height": 270
        },
        "id": "v4Q_8WBO-h90",
        "outputId": "ff069833-9e9e-4ae6-abae-84d63e31b62a"
      },
      "execution_count": 21,
      "outputs": [
        {
          "output_type": "execute_result",
          "data": {
            "text/plain": [
              "   vendor_id  passenger_count  pickup_longitude  pickup_latitude  \\\n",
              "0          2                1        -73.982155        40.767937   \n",
              "1          1                1        -73.980415        40.738564   \n",
              "2          2                1        -73.979027        40.763939   \n",
              "3          2                1        -74.010040        40.719971   \n",
              "4          2                1        -73.973053        40.793209   \n",
              "\n",
              "   dropoff_longitude  dropoff_latitude  store_and_fwd_flag  trip_duration  \\\n",
              "0         -73.964630         40.765602                   0            455   \n",
              "1         -73.999481         40.731152                   0            663   \n",
              "2         -74.005333         40.710087                   0           2124   \n",
              "3         -74.012268         40.706718                   0            429   \n",
              "4         -73.972923         40.782520                   0            435   \n",
              "\n",
              "   pickup_day  pickup_month  pickup_hour  pickup_min  pickup_weekday  \\\n",
              "0          14             3           17          24               0   \n",
              "1          12             6            0          43               6   \n",
              "2          19             1           11          35               1   \n",
              "3           6             4           19          32               2   \n",
              "4          26             3           13          30               5   \n",
              "\n",
              "   dropoff_min  \n",
              "0           32  \n",
              "1           54  \n",
              "2           10  \n",
              "3           39  \n",
              "4           38  "
            ],
            "text/html": [
              "\n",
              "  <div id=\"df-ff96c654-6289-452e-a8e7-26e1036dd87a\">\n",
              "    <div class=\"colab-df-container\">\n",
              "      <div>\n",
              "<style scoped>\n",
              "    .dataframe tbody tr th:only-of-type {\n",
              "        vertical-align: middle;\n",
              "    }\n",
              "\n",
              "    .dataframe tbody tr th {\n",
              "        vertical-align: top;\n",
              "    }\n",
              "\n",
              "    .dataframe thead th {\n",
              "        text-align: right;\n",
              "    }\n",
              "</style>\n",
              "<table border=\"1\" class=\"dataframe\">\n",
              "  <thead>\n",
              "    <tr style=\"text-align: right;\">\n",
              "      <th></th>\n",
              "      <th>vendor_id</th>\n",
              "      <th>passenger_count</th>\n",
              "      <th>pickup_longitude</th>\n",
              "      <th>pickup_latitude</th>\n",
              "      <th>dropoff_longitude</th>\n",
              "      <th>dropoff_latitude</th>\n",
              "      <th>store_and_fwd_flag</th>\n",
              "      <th>trip_duration</th>\n",
              "      <th>pickup_day</th>\n",
              "      <th>pickup_month</th>\n",
              "      <th>pickup_hour</th>\n",
              "      <th>pickup_min</th>\n",
              "      <th>pickup_weekday</th>\n",
              "      <th>dropoff_min</th>\n",
              "    </tr>\n",
              "  </thead>\n",
              "  <tbody>\n",
              "    <tr>\n",
              "      <th>0</th>\n",
              "      <td>2</td>\n",
              "      <td>1</td>\n",
              "      <td>-73.982155</td>\n",
              "      <td>40.767937</td>\n",
              "      <td>-73.964630</td>\n",
              "      <td>40.765602</td>\n",
              "      <td>0</td>\n",
              "      <td>455</td>\n",
              "      <td>14</td>\n",
              "      <td>3</td>\n",
              "      <td>17</td>\n",
              "      <td>24</td>\n",
              "      <td>0</td>\n",
              "      <td>32</td>\n",
              "    </tr>\n",
              "    <tr>\n",
              "      <th>1</th>\n",
              "      <td>1</td>\n",
              "      <td>1</td>\n",
              "      <td>-73.980415</td>\n",
              "      <td>40.738564</td>\n",
              "      <td>-73.999481</td>\n",
              "      <td>40.731152</td>\n",
              "      <td>0</td>\n",
              "      <td>663</td>\n",
              "      <td>12</td>\n",
              "      <td>6</td>\n",
              "      <td>0</td>\n",
              "      <td>43</td>\n",
              "      <td>6</td>\n",
              "      <td>54</td>\n",
              "    </tr>\n",
              "    <tr>\n",
              "      <th>2</th>\n",
              "      <td>2</td>\n",
              "      <td>1</td>\n",
              "      <td>-73.979027</td>\n",
              "      <td>40.763939</td>\n",
              "      <td>-74.005333</td>\n",
              "      <td>40.710087</td>\n",
              "      <td>0</td>\n",
              "      <td>2124</td>\n",
              "      <td>19</td>\n",
              "      <td>1</td>\n",
              "      <td>11</td>\n",
              "      <td>35</td>\n",
              "      <td>1</td>\n",
              "      <td>10</td>\n",
              "    </tr>\n",
              "    <tr>\n",
              "      <th>3</th>\n",
              "      <td>2</td>\n",
              "      <td>1</td>\n",
              "      <td>-74.010040</td>\n",
              "      <td>40.719971</td>\n",
              "      <td>-74.012268</td>\n",
              "      <td>40.706718</td>\n",
              "      <td>0</td>\n",
              "      <td>429</td>\n",
              "      <td>6</td>\n",
              "      <td>4</td>\n",
              "      <td>19</td>\n",
              "      <td>32</td>\n",
              "      <td>2</td>\n",
              "      <td>39</td>\n",
              "    </tr>\n",
              "    <tr>\n",
              "      <th>4</th>\n",
              "      <td>2</td>\n",
              "      <td>1</td>\n",
              "      <td>-73.973053</td>\n",
              "      <td>40.793209</td>\n",
              "      <td>-73.972923</td>\n",
              "      <td>40.782520</td>\n",
              "      <td>0</td>\n",
              "      <td>435</td>\n",
              "      <td>26</td>\n",
              "      <td>3</td>\n",
              "      <td>13</td>\n",
              "      <td>30</td>\n",
              "      <td>5</td>\n",
              "      <td>38</td>\n",
              "    </tr>\n",
              "  </tbody>\n",
              "</table>\n",
              "</div>\n",
              "      <button class=\"colab-df-convert\" onclick=\"convertToInteractive('df-ff96c654-6289-452e-a8e7-26e1036dd87a')\"\n",
              "              title=\"Convert this dataframe to an interactive table.\"\n",
              "              style=\"display:none;\">\n",
              "        \n",
              "  <svg xmlns=\"http://www.w3.org/2000/svg\" height=\"24px\"viewBox=\"0 0 24 24\"\n",
              "       width=\"24px\">\n",
              "    <path d=\"M0 0h24v24H0V0z\" fill=\"none\"/>\n",
              "    <path d=\"M18.56 5.44l.94 2.06.94-2.06 2.06-.94-2.06-.94-.94-2.06-.94 2.06-2.06.94zm-11 1L8.5 8.5l.94-2.06 2.06-.94-2.06-.94L8.5 2.5l-.94 2.06-2.06.94zm10 10l.94 2.06.94-2.06 2.06-.94-2.06-.94-.94-2.06-.94 2.06-2.06.94z\"/><path d=\"M17.41 7.96l-1.37-1.37c-.4-.4-.92-.59-1.43-.59-.52 0-1.04.2-1.43.59L10.3 9.45l-7.72 7.72c-.78.78-.78 2.05 0 2.83L4 21.41c.39.39.9.59 1.41.59.51 0 1.02-.2 1.41-.59l7.78-7.78 2.81-2.81c.8-.78.8-2.07 0-2.86zM5.41 20L4 18.59l7.72-7.72 1.47 1.35L5.41 20z\"/>\n",
              "  </svg>\n",
              "      </button>\n",
              "      \n",
              "  <style>\n",
              "    .colab-df-container {\n",
              "      display:flex;\n",
              "      flex-wrap:wrap;\n",
              "      gap: 12px;\n",
              "    }\n",
              "\n",
              "    .colab-df-convert {\n",
              "      background-color: #E8F0FE;\n",
              "      border: none;\n",
              "      border-radius: 50%;\n",
              "      cursor: pointer;\n",
              "      display: none;\n",
              "      fill: #1967D2;\n",
              "      height: 32px;\n",
              "      padding: 0 0 0 0;\n",
              "      width: 32px;\n",
              "    }\n",
              "\n",
              "    .colab-df-convert:hover {\n",
              "      background-color: #E2EBFA;\n",
              "      box-shadow: 0px 1px 2px rgba(60, 64, 67, 0.3), 0px 1px 3px 1px rgba(60, 64, 67, 0.15);\n",
              "      fill: #174EA6;\n",
              "    }\n",
              "\n",
              "    [theme=dark] .colab-df-convert {\n",
              "      background-color: #3B4455;\n",
              "      fill: #D2E3FC;\n",
              "    }\n",
              "\n",
              "    [theme=dark] .colab-df-convert:hover {\n",
              "      background-color: #434B5C;\n",
              "      box-shadow: 0px 1px 3px 1px rgba(0, 0, 0, 0.15);\n",
              "      filter: drop-shadow(0px 1px 2px rgba(0, 0, 0, 0.3));\n",
              "      fill: #FFFFFF;\n",
              "    }\n",
              "  </style>\n",
              "\n",
              "      <script>\n",
              "        const buttonEl =\n",
              "          document.querySelector('#df-ff96c654-6289-452e-a8e7-26e1036dd87a button.colab-df-convert');\n",
              "        buttonEl.style.display =\n",
              "          google.colab.kernel.accessAllowed ? 'block' : 'none';\n",
              "\n",
              "        async function convertToInteractive(key) {\n",
              "          const element = document.querySelector('#df-ff96c654-6289-452e-a8e7-26e1036dd87a');\n",
              "          const dataTable =\n",
              "            await google.colab.kernel.invokeFunction('convertToInteractive',\n",
              "                                                     [key], {});\n",
              "          if (!dataTable) return;\n",
              "\n",
              "          const docLinkHtml = 'Like what you see? Visit the ' +\n",
              "            '<a target=\"_blank\" href=https://colab.research.google.com/notebooks/data_table.ipynb>data table notebook</a>'\n",
              "            + ' to learn more about interactive tables.';\n",
              "          element.innerHTML = '';\n",
              "          dataTable['output_type'] = 'display_data';\n",
              "          await google.colab.output.renderOutput(dataTable, element);\n",
              "          const docLink = document.createElement('div');\n",
              "          docLink.innerHTML = docLinkHtml;\n",
              "          element.appendChild(docLink);\n",
              "        }\n",
              "      </script>\n",
              "    </div>\n",
              "  </div>\n",
              "  "
            ]
          },
          "metadata": {},
          "execution_count": 21
        }
      ]
    },
    {
      "cell_type": "markdown",
      "source": [
        "Let’s drop unwanted Features like ID and others of which we've already extracted features."
      ],
      "metadata": {
        "id": "C6KRmbHe-wJn"
      }
    },
    {
      "cell_type": "markdown",
      "source": [
        "**Normalization**"
      ],
      "metadata": {
        "id": "R0yHZnNI-0CJ"
      }
    },
    {
      "cell_type": "code",
      "source": [
        "#Predictors and Target Variable\n",
        "\n",
        "X = nyc_taxi_df.drop(['trip_duration'], axis=1)\n",
        "y = np.log(nyc_taxi_df['trip_duration'])"
      ],
      "metadata": {
        "id": "tGY3Nwi1-r2B"
      },
      "execution_count": 22,
      "outputs": []
    },
    {
      "cell_type": "code",
      "source": [
        "# Normalising Predictors and creating new dataframe\n",
        "\n",
        "from sklearn.preprocessing import StandardScaler\n",
        "\n",
        "cols = X.columns\n",
        "\n",
        "ss = StandardScaler()\n",
        "\n",
        "new_df = ss.fit_transform(X)\n",
        "new_df = pd.DataFrame(new_df, columns=cols)\n",
        "new_df.head()"
      ],
      "metadata": {
        "colab": {
          "base_uri": "https://localhost:8080/",
          "height": 270
        },
        "id": "4vs8fQZF-_l8",
        "outputId": "002b58d1-7bd7-4810-a86a-46bb998e1c63"
      },
      "execution_count": 23,
      "outputs": [
        {
          "output_type": "execute_result",
          "data": {
            "text/plain": [
              "   vendor_id  passenger_count  pickup_longitude  pickup_latitude  \\\n",
              "0   0.932380        -0.505637         -0.122261         0.517494   \n",
              "1  -1.072524        -0.505637         -0.097727        -0.375819   \n",
              "2   0.932380        -0.505637         -0.078143         0.395910   \n",
              "3   0.932380        -0.505637         -0.515558        -0.941274   \n",
              "4   0.932380        -0.505637          0.006112         1.286091   \n",
              "\n",
              "   dropoff_longitude  dropoff_latitude  store_and_fwd_flag  pickup_day  \\\n",
              "0           0.124369          0.384575           -0.074471   -0.172813   \n",
              "1          -0.368970         -0.575303           -0.074471   -0.402616   \n",
              "2          -0.451805         -1.162220           -0.074471    0.401692   \n",
              "3          -0.549976         -1.256071           -0.074471   -1.092023   \n",
              "4           0.006974          0.855957           -0.074471    1.206001   \n",
              "\n",
              "   pickup_month  pickup_hour  pickup_min  pickup_weekday  dropoff_min  \n",
              "0     -0.307440     0.530263   -0.322670       -1.561062     0.136139  \n",
              "1      1.477173    -2.126116    0.774030        1.509502     1.399039  \n",
              "2     -1.497182    -0.407283    0.312262       -1.049301    -1.126761  \n",
              "3      0.287431     0.842778    0.139099       -0.537541     0.537971  \n",
              "4     -0.307440    -0.094768    0.023657        0.997741     0.480566  "
            ],
            "text/html": [
              "\n",
              "  <div id=\"df-e94b3f1a-7730-4180-9ce1-4f03a1c4cd19\">\n",
              "    <div class=\"colab-df-container\">\n",
              "      <div>\n",
              "<style scoped>\n",
              "    .dataframe tbody tr th:only-of-type {\n",
              "        vertical-align: middle;\n",
              "    }\n",
              "\n",
              "    .dataframe tbody tr th {\n",
              "        vertical-align: top;\n",
              "    }\n",
              "\n",
              "    .dataframe thead th {\n",
              "        text-align: right;\n",
              "    }\n",
              "</style>\n",
              "<table border=\"1\" class=\"dataframe\">\n",
              "  <thead>\n",
              "    <tr style=\"text-align: right;\">\n",
              "      <th></th>\n",
              "      <th>vendor_id</th>\n",
              "      <th>passenger_count</th>\n",
              "      <th>pickup_longitude</th>\n",
              "      <th>pickup_latitude</th>\n",
              "      <th>dropoff_longitude</th>\n",
              "      <th>dropoff_latitude</th>\n",
              "      <th>store_and_fwd_flag</th>\n",
              "      <th>pickup_day</th>\n",
              "      <th>pickup_month</th>\n",
              "      <th>pickup_hour</th>\n",
              "      <th>pickup_min</th>\n",
              "      <th>pickup_weekday</th>\n",
              "      <th>dropoff_min</th>\n",
              "    </tr>\n",
              "  </thead>\n",
              "  <tbody>\n",
              "    <tr>\n",
              "      <th>0</th>\n",
              "      <td>0.932380</td>\n",
              "      <td>-0.505637</td>\n",
              "      <td>-0.122261</td>\n",
              "      <td>0.517494</td>\n",
              "      <td>0.124369</td>\n",
              "      <td>0.384575</td>\n",
              "      <td>-0.074471</td>\n",
              "      <td>-0.172813</td>\n",
              "      <td>-0.307440</td>\n",
              "      <td>0.530263</td>\n",
              "      <td>-0.322670</td>\n",
              "      <td>-1.561062</td>\n",
              "      <td>0.136139</td>\n",
              "    </tr>\n",
              "    <tr>\n",
              "      <th>1</th>\n",
              "      <td>-1.072524</td>\n",
              "      <td>-0.505637</td>\n",
              "      <td>-0.097727</td>\n",
              "      <td>-0.375819</td>\n",
              "      <td>-0.368970</td>\n",
              "      <td>-0.575303</td>\n",
              "      <td>-0.074471</td>\n",
              "      <td>-0.402616</td>\n",
              "      <td>1.477173</td>\n",
              "      <td>-2.126116</td>\n",
              "      <td>0.774030</td>\n",
              "      <td>1.509502</td>\n",
              "      <td>1.399039</td>\n",
              "    </tr>\n",
              "    <tr>\n",
              "      <th>2</th>\n",
              "      <td>0.932380</td>\n",
              "      <td>-0.505637</td>\n",
              "      <td>-0.078143</td>\n",
              "      <td>0.395910</td>\n",
              "      <td>-0.451805</td>\n",
              "      <td>-1.162220</td>\n",
              "      <td>-0.074471</td>\n",
              "      <td>0.401692</td>\n",
              "      <td>-1.497182</td>\n",
              "      <td>-0.407283</td>\n",
              "      <td>0.312262</td>\n",
              "      <td>-1.049301</td>\n",
              "      <td>-1.126761</td>\n",
              "    </tr>\n",
              "    <tr>\n",
              "      <th>3</th>\n",
              "      <td>0.932380</td>\n",
              "      <td>-0.505637</td>\n",
              "      <td>-0.515558</td>\n",
              "      <td>-0.941274</td>\n",
              "      <td>-0.549976</td>\n",
              "      <td>-1.256071</td>\n",
              "      <td>-0.074471</td>\n",
              "      <td>-1.092023</td>\n",
              "      <td>0.287431</td>\n",
              "      <td>0.842778</td>\n",
              "      <td>0.139099</td>\n",
              "      <td>-0.537541</td>\n",
              "      <td>0.537971</td>\n",
              "    </tr>\n",
              "    <tr>\n",
              "      <th>4</th>\n",
              "      <td>0.932380</td>\n",
              "      <td>-0.505637</td>\n",
              "      <td>0.006112</td>\n",
              "      <td>1.286091</td>\n",
              "      <td>0.006974</td>\n",
              "      <td>0.855957</td>\n",
              "      <td>-0.074471</td>\n",
              "      <td>1.206001</td>\n",
              "      <td>-0.307440</td>\n",
              "      <td>-0.094768</td>\n",
              "      <td>0.023657</td>\n",
              "      <td>0.997741</td>\n",
              "      <td>0.480566</td>\n",
              "    </tr>\n",
              "  </tbody>\n",
              "</table>\n",
              "</div>\n",
              "      <button class=\"colab-df-convert\" onclick=\"convertToInteractive('df-e94b3f1a-7730-4180-9ce1-4f03a1c4cd19')\"\n",
              "              title=\"Convert this dataframe to an interactive table.\"\n",
              "              style=\"display:none;\">\n",
              "        \n",
              "  <svg xmlns=\"http://www.w3.org/2000/svg\" height=\"24px\"viewBox=\"0 0 24 24\"\n",
              "       width=\"24px\">\n",
              "    <path d=\"M0 0h24v24H0V0z\" fill=\"none\"/>\n",
              "    <path d=\"M18.56 5.44l.94 2.06.94-2.06 2.06-.94-2.06-.94-.94-2.06-.94 2.06-2.06.94zm-11 1L8.5 8.5l.94-2.06 2.06-.94-2.06-.94L8.5 2.5l-.94 2.06-2.06.94zm10 10l.94 2.06.94-2.06 2.06-.94-2.06-.94-.94-2.06-.94 2.06-2.06.94z\"/><path d=\"M17.41 7.96l-1.37-1.37c-.4-.4-.92-.59-1.43-.59-.52 0-1.04.2-1.43.59L10.3 9.45l-7.72 7.72c-.78.78-.78 2.05 0 2.83L4 21.41c.39.39.9.59 1.41.59.51 0 1.02-.2 1.41-.59l7.78-7.78 2.81-2.81c.8-.78.8-2.07 0-2.86zM5.41 20L4 18.59l7.72-7.72 1.47 1.35L5.41 20z\"/>\n",
              "  </svg>\n",
              "      </button>\n",
              "      \n",
              "  <style>\n",
              "    .colab-df-container {\n",
              "      display:flex;\n",
              "      flex-wrap:wrap;\n",
              "      gap: 12px;\n",
              "    }\n",
              "\n",
              "    .colab-df-convert {\n",
              "      background-color: #E8F0FE;\n",
              "      border: none;\n",
              "      border-radius: 50%;\n",
              "      cursor: pointer;\n",
              "      display: none;\n",
              "      fill: #1967D2;\n",
              "      height: 32px;\n",
              "      padding: 0 0 0 0;\n",
              "      width: 32px;\n",
              "    }\n",
              "\n",
              "    .colab-df-convert:hover {\n",
              "      background-color: #E2EBFA;\n",
              "      box-shadow: 0px 1px 2px rgba(60, 64, 67, 0.3), 0px 1px 3px 1px rgba(60, 64, 67, 0.15);\n",
              "      fill: #174EA6;\n",
              "    }\n",
              "\n",
              "    [theme=dark] .colab-df-convert {\n",
              "      background-color: #3B4455;\n",
              "      fill: #D2E3FC;\n",
              "    }\n",
              "\n",
              "    [theme=dark] .colab-df-convert:hover {\n",
              "      background-color: #434B5C;\n",
              "      box-shadow: 0px 1px 3px 1px rgba(0, 0, 0, 0.15);\n",
              "      filter: drop-shadow(0px 1px 2px rgba(0, 0, 0, 0.3));\n",
              "      fill: #FFFFFF;\n",
              "    }\n",
              "  </style>\n",
              "\n",
              "      <script>\n",
              "        const buttonEl =\n",
              "          document.querySelector('#df-e94b3f1a-7730-4180-9ce1-4f03a1c4cd19 button.colab-df-convert');\n",
              "        buttonEl.style.display =\n",
              "          google.colab.kernel.accessAllowed ? 'block' : 'none';\n",
              "\n",
              "        async function convertToInteractive(key) {\n",
              "          const element = document.querySelector('#df-e94b3f1a-7730-4180-9ce1-4f03a1c4cd19');\n",
              "          const dataTable =\n",
              "            await google.colab.kernel.invokeFunction('convertToInteractive',\n",
              "                                                     [key], {});\n",
              "          if (!dataTable) return;\n",
              "\n",
              "          const docLinkHtml = 'Like what you see? Visit the ' +\n",
              "            '<a target=\"_blank\" href=https://colab.research.google.com/notebooks/data_table.ipynb>data table notebook</a>'\n",
              "            + ' to learn more about interactive tables.';\n",
              "          element.innerHTML = '';\n",
              "          dataTable['output_type'] = 'display_data';\n",
              "          await google.colab.output.renderOutput(dataTable, element);\n",
              "          const docLink = document.createElement('div');\n",
              "          docLink.innerHTML = docLinkHtml;\n",
              "          element.appendChild(docLink);\n",
              "        }\n",
              "      </script>\n",
              "    </div>\n",
              "  </div>\n",
              "  "
            ]
          },
          "metadata": {},
          "execution_count": 23
        }
      ]
    },
    {
      "cell_type": "markdown",
      "source": [
        "Normalizing the Dataset using Standard Scaling Technique.\n",
        "\n",
        "Now, Why Standard Scaling ? Why not MinMax or Normalizer ?\n",
        "\n",
        "It is because MinMax adjusts the value between 0’s and 1’s , which tend to work better for optimization techniques like Gradient descent and machine learning algorithms like KNN.\n",
        "While, Normalizer uses distance measurement like Euclidean or Manhattan, so Normalizer tend to work better with KNN."
      ],
      "metadata": {
        "id": "qaGPId1y_JvO"
      }
    },
    {
      "cell_type": "markdown",
      "source": [
        "The First Approach - Decomposition using Principal Component Analysis (PCA)"
      ],
      "metadata": {
        "id": "gYspvkrH_TC4"
      }
    },
    {
      "cell_type": "markdown",
      "source": [
        "Now that we’re done, we have to pass our Scaled Dataframe in PCA model and observe the elbow plot to get better idea of explained variance.\n",
        "Why PCA ? It's a Dimensionality Reduction Technique. It is also a Feature extraction Technique. By PCA we create new features from old (Original) Features but the new features will always be independent of each other. So, its not just Dimensionality Reduction Process, we are even eliminating Correlation between the Variables.\n",
        "We'll also go through a approach without using PCA in Second Part and Later compare results with PCA approach."
      ],
      "metadata": {
        "id": "TJXDXr-b_XJx"
      }
    },
    {
      "cell_type": "code",
      "source": [
        "X = new_df"
      ],
      "metadata": {
        "id": "TjLhZr79_EfV"
      },
      "execution_count": 24,
      "outputs": []
    },
    {
      "cell_type": "code",
      "source": [
        "#Applying PCA\n",
        "\n",
        "from sklearn.decomposition import PCA\n",
        "\n",
        "pca = PCA(n_components=len(nyc_taxi_df.columns)-1)\n",
        "pca.fit_transform(X)\n",
        "var_rat = pca.explained_variance_ratio_\n",
        "var_rat"
      ],
      "metadata": {
        "colab": {
          "base_uri": "https://localhost:8080/"
        },
        "id": "xAafj4fi_bO9",
        "outputId": "6acbba7f-c551-4a5a-dfec-a720d36d7287"
      },
      "execution_count": 25,
      "outputs": [
        {
          "output_type": "execute_result",
          "data": {
            "text/plain": [
              "array([0.14409795, 0.10874783, 0.10046737, 0.08575584, 0.08327229,\n",
              "       0.07812324, 0.07600604, 0.0757774 , 0.07020683, 0.06811033,\n",
              "       0.05427252, 0.03908354, 0.01607881])"
            ]
          },
          "metadata": {},
          "execution_count": 25
        }
      ]
    },
    {
      "cell_type": "code",
      "source": [
        "#Variance Ratio vs PC plot\n",
        "\n",
        "plt.figure(figsize=(15,6))\n",
        "plt.bar(np.arange(pca.n_components_), pca.explained_variance_, color=\"grey\")"
      ],
      "metadata": {
        "colab": {
          "base_uri": "https://localhost:8080/",
          "height": 391
        },
        "id": "Vl41oH_u_i-Q",
        "outputId": "ac5cf7b9-dee7-4e03-eadd-e1c7049f3043"
      },
      "execution_count": 26,
      "outputs": [
        {
          "output_type": "execute_result",
          "data": {
            "text/plain": [
              "<BarContainer object of 13 artists>"
            ]
          },
          "metadata": {},
          "execution_count": 26
        },
        {
          "output_type": "display_data",
          "data": {
            "text/plain": [
              "<Figure size 1080x432 with 1 Axes>"
            ],
            "image/png": "[encoded data removed]"
          },
          "metadata": {
            "needs_background": "light"
          }
        }
      ]
    },
    {
      "cell_type": "code",
      "source": [
        "#Applying PCA as per required components\n",
        "\n",
        "pca = PCA(n_components=12)\n",
        "transform = pca.fit_transform(X)\n",
        "pca.explained_variance_"
      ],
      "metadata": {
        "colab": {
          "base_uri": "https://localhost:8080/"
        },
        "id": "qcICYpo6_qRv",
        "outputId": "d46dabea-7df4-4a85-b0d2-d10d04c4af37"
      },
      "execution_count": 27,
      "outputs": [
        {
          "output_type": "execute_result",
          "data": {
            "text/plain": [
              "array([1.87327459, 1.4137228 , 1.30607674, 1.11482673, 1.08254045,\n",
              "       1.01560276, 0.98807923, 0.9851069 , 0.91268938, 0.88543493,\n",
              "       0.70554326, 0.50808643])"
            ]
          },
          "metadata": {},
          "execution_count": 27
        }
      ]
    },
    {
      "cell_type": "code",
      "source": [
        "#importance of features in Particular Principal Component\n",
        "\n",
        "plt.figure(figsize=(25,6))\n",
        "sns.heatmap(pca.components_, annot=True, cmap=\"winter\")\n",
        "plt.ylabel(\"Components\")\n",
        "plt.xlabel(\"Features\")\n",
        "plt.xticks(np.arange(len(X.columns)), X.columns, rotation=65)\n",
        "plt.title('Contribution of a Particular feature to our Principal Components')"
      ],
      "metadata": {
        "colab": {
          "base_uri": "https://localhost:8080/",
          "height": 459
        },
        "id": "q1v36x2l_xoB",
        "outputId": "c24bb37b-925f-4cf2-88b0-47146f791a31"
      },
      "execution_count": 28,
      "outputs": [
        {
          "output_type": "execute_result",
          "data": {
            "text/plain": [
              "Text(0.5, 1.0, 'Contribution of a Particular feature to our Principal Components')"
            ]
          },
          "metadata": {},
          "execution_count": 28
        },
        {
          "output_type": "display_data",
          "data": {
            "text/plain": [
              "<Figure size 1800x432 with 2 Axes>"
            ],
            "image/png": "[encoded data removed]"
          },
          "metadata": {
            "needs_background": "light"
          }
        }
      ]
    },
    {
      "cell_type": "markdown",
      "source": [
        "Above plot gives us detailed idealogy of which feature has contributed more or less to our each Principal Component.\n",
        "Pricipal Components are our new features which consists of Information from every other original Feature we have.\n",
        "We reduce the Dimensions using PCA by retaining as much as Information possible."
      ],
      "metadata": {
        "id": "sRfh6-47_7fP"
      }
    },
    {
      "cell_type": "code",
      "source": [
        "#Passing in Transformed values as Predcitors\n",
        "\n",
        "X = transform\n",
        "y = np.log(nyc_taxi_df['trip_duration']).values"
      ],
      "metadata": {
        "id": "xq7WHUpb_2KK"
      },
      "execution_count": 29,
      "outputs": []
    },
    {
      "cell_type": "markdown",
      "source": [
        "RMSLE as a evaluation Metrics , We can also hyper tune our Parameters to minimize the loss (RMSLE). We will also calculate Null RMSLE , which we can set as a benchmark for our Model's RMSLE."
      ],
      "metadata": {
        "id": "6HYR2p_8ALTU"
      }
    },
    {
      "cell_type": "code",
      "source": [
        "#importing train test split & some important metrics\n",
        "\n",
        "from sklearn.model_selection import train_test_split, GridSearchCV, cross_val_score\n",
        "from sklearn.metrics import r2_score, mean_squared_log_error , mean_squared_error\n",
        "\n",
        "X_train, X_test, y_train, y_test = train_test_split(X, y, test_size=0.30, random_state=10)"
      ],
      "metadata": {
        "id": "C5P-zerjAFvD"
      },
      "execution_count": 30,
      "outputs": []
    },
    {
      "cell_type": "markdown",
      "source": [
        "Linear Regression"
      ],
      "metadata": {
        "id": "ZKCR-eDWAVkU"
      }
    },
    {
      "cell_type": "code",
      "source": [
        "#implementing Linear regression\n",
        "\n",
        "from sklearn.linear_model import LinearRegression\n",
        "\n",
        "est_lr = LinearRegression()\n",
        "est_lr.fit(X_train, y_train)\n",
        "lr_pred = est_lr.predict(X_test)\n",
        "lr_pred"
      ],
      "metadata": {
        "colab": {
          "base_uri": "https://localhost:8080/"
        },
        "id": "cAlW_4m3ARG-",
        "outputId": "b53becb6-498e-4899-c4ab-c9676b25b2cc"
      },
      "execution_count": 31,
      "outputs": [
        {
          "output_type": "execute_result",
          "data": {
            "text/plain": [
              "array([6.40949572, 6.38974715, 6.58234517, ..., 6.49740393, 6.39593293,\n",
              "       6.55841163])"
            ]
          },
          "metadata": {},
          "execution_count": 31
        }
      ]
    },
    {
      "cell_type": "code",
      "source": [
        "#coeficients & intercept\n",
        "\n",
        "est_lr.intercept_, est_lr.coef_"
      ],
      "metadata": {
        "colab": {
          "base_uri": "https://localhost:8080/"
        },
        "id": "6cGTLF3xAaTM",
        "outputId": "025271df-16ed-4370-ab3e-33b354116460"
      },
      "execution_count": 32,
      "outputs": [
        {
          "output_type": "execute_result",
          "data": {
            "text/plain": [
              "(6.464229202317943,\n",
              " array([-0.00461807,  0.12447833, -0.01441592,  0.00959972,  0.05385644,\n",
              "         0.01496158,  0.00788659,  0.02648509, -0.00784727, -0.00447443,\n",
              "         0.00189097, -0.01348211]))"
            ]
          },
          "metadata": {},
          "execution_count": 32
        }
      ]
    },
    {
      "cell_type": "code",
      "source": [
        "#examining scores\n",
        "\n",
        "print (\"Training Score : \" , est_lr.score(X_train, y_train))\n",
        "\n",
        "print (\"Validation Score : \", est_lr.score(X_test, y_test))\n",
        "\n",
        "print (\"Cross Validation Score : \" , cross_val_score(est_lr, X_train, y_train, cv=5).mean())\n",
        "\n",
        "print (\"R2_Score : \", r2_score(lr_pred, y_test))\n",
        "\n",
        "#print (\"RMSLE : \", np.sqrt(mean_squared_log_error(lr_pred, y_test)))"
      ],
      "metadata": {
        "colab": {
          "base_uri": "https://localhost:8080/"
        },
        "id": "zP4asbqGAgNh",
        "outputId": "224bf679-ad25-44a5-b55c-10a303e611f8"
      },
      "execution_count": 33,
      "outputs": [
        {
          "output_type": "stream",
          "name": "stdout",
          "text": [
            "Training Score :  0.04244450511791209\n",
            "Validation Score :  0.043892079955855645\n",
            "Cross Validation Score :  -0.048583442002601895\n",
            "R2_Score :  -23.101354376046718\n"
          ]
        }
      ]
    },
    {
      "cell_type": "code",
      "source": [
        "#prediction vs real data\n",
        "\n",
        "plt.figure(figsize=(15,8))\n",
        "plt.subplot(1,1,1)\n",
        "sns.distplot(y_test, kde=False, color=\"black\", label=\"Test\")\n",
        "\n",
        "plt.subplot(1,1,1)\n",
        "sns.distplot(lr_pred, kde=False, color=\"g\", label=\"Prediction\")\n",
        "plt.legend()\n",
        "plt.title(\"Test VS Prediction\")"
      ],
      "metadata": {
        "colab": {
          "base_uri": "https://localhost:8080/",
          "height": 606
        },
        "id": "W99oajC-Auk4",
        "outputId": "6fc77c85-268f-4e1c-db59-0d413f22310f"
      },
      "execution_count": 34,
      "outputs": [
        {
          "output_type": "stream",
          "name": "stderr",
          "text": [
            "/usr/local/lib/python3.7/dist-packages/seaborn/distributions.py:2619: FutureWarning: `distplot` is a deprecated function and will be removed in a future version. Please adapt your code to use either `displot` (a figure-level function with similar flexibility) or `histplot` (an axes-level function for histograms).\n",
            "  warnings.warn(msg, FutureWarning)\n",
            "/usr/local/lib/python3.7/dist-packages/ipykernel_launcher.py:7: MatplotlibDeprecationWarning: Adding an axes using the same arguments as a previous axes currently reuses the earlier instance.  In a future version, a new instance will always be created and returned.  Meanwhile, this warning can be suppressed, and the future behavior ensured, by passing a unique label to each axes instance.\n",
            "  import sys\n"
          ]
        },
        {
          "output_type": "execute_result",
          "data": {
            "text/plain": [
              "Text(0.5, 1.0, 'Test VS Prediction')"
            ]
          },
          "metadata": {},
          "execution_count": 34
        },
        {
          "output_type": "display_data",
          "data": {
            "text/plain": [
              "<Figure size 1080x576 with 1 Axes>"
            ],
            "image/png": "[encoded data removed]"
          },
          "metadata": {
            "needs_background": "light"
          }
        }
      ]
    },
    {
      "cell_type": "markdown",
      "source": [
        "From the above Viz. we can clearly identify that the Linear Regression isn't performing good. The Actual Data (in Grey) and Predicted values (in Yellow) are so much differing. We can conclude that Linear Regression doesn't seem like a right choice for Trip duration prediction."
      ],
      "metadata": {
        "id": "rpo-o4xqA407"
      }
    },
    {
      "cell_type": "markdown",
      "source": [
        "Null RMSLE"
      ],
      "metadata": {
        "id": "59mjUGSlBBuL"
      }
    },
    {
      "cell_type": "code",
      "source": [
        "#null rmsle implementation\n",
        "\n",
        "y_null = np.zeros_like(y_test, dtype=float)\n",
        "y_null.fill(y_test.mean())\n",
        "print (\"Null RMSLE : \", np.sqrt(mean_squared_log_error(y_test, y_null)))"
      ],
      "metadata": {
        "colab": {
          "base_uri": "https://localhost:8080/"
        },
        "id": "ppdBIdkfA7Je",
        "outputId": "8c1beaa5-9896-47ef-bbc9-3254fa7dbb69"
      },
      "execution_count": 35,
      "outputs": [
        {
          "output_type": "stream",
          "name": "stdout",
          "text": [
            "Null RMSLE :  0.11464018891653321\n"
          ]
        }
      ]
    },
    {
      "cell_type": "markdown",
      "source": [
        ""
      ],
      "metadata": {
        "id": "wJCEEXUnBL7N"
      }
    },
    {
      "cell_type": "markdown",
      "source": [
        "Decision Tree\n",
        "Let us apply Decision Tree on our data and see what prediction it does"
      ],
      "metadata": {
        "id": "AtVcclFCBLks"
      }
    },
    {
      "cell_type": "code",
      "source": [
        "#implementation of decision tree\n",
        "\n",
        "from sklearn.tree import DecisionTreeRegressor\n",
        "\n",
        "est_dt = DecisionTreeRegressor(criterion=\"mse\", max_depth=10)\n",
        "est_dt.fit(X_train, y_train)\n",
        "dt_pred = est_dt.predict(X_test)\n",
        "dt_pred"
      ],
      "metadata": {
        "colab": {
          "base_uri": "https://localhost:8080/"
        },
        "id": "F9V3QyAVA7Fb",
        "outputId": "fcb89308-8f30-4505-b8c2-1a327b9fe245"
      },
      "execution_count": 36,
      "outputs": [
        {
          "output_type": "stream",
          "name": "stderr",
          "text": [
            "/usr/local/lib/python3.7/dist-packages/sklearn/tree/_classes.py:363: FutureWarning: Criterion 'mse' was deprecated in v1.0 and will be removed in version 1.2. Use `criterion='squared_error'` which is equivalent.\n",
            "  FutureWarning,\n"
          ]
        },
        {
          "output_type": "execute_result",
          "data": {
            "text/plain": [
              "array([6.58041548, 7.50469126, 6.16268944, ..., 6.96234437, 7.61373356,\n",
              "       6.51030877])"
            ]
          },
          "metadata": {},
          "execution_count": 36
        }
      ]
    },
    {
      "cell_type": "code",
      "source": [
        "#examining metrics\n",
        "\n",
        "print (\"Training Score : \" , est_dt.score(X_train, y_train))\n",
        "\n",
        "print (\"Validation Score : \", est_dt.score(X_test, y_test))\n",
        "\n",
        "print (\"Cross Validation Score : \" , cross_val_score(est_dt, X_train, y_train, cv=5).mean())\n",
        "\n",
        "print (\"R2_Score : \", r2_score(dt_pred, y_test))\n",
        "\n",
        "print (\"RMSLE : \", np.sqrt(mean_squared_log_error(dt_pred, y_test)))"
      ],
      "metadata": {
        "colab": {
          "base_uri": "https://localhost:8080/"
        },
        "id": "M0-XZzteA7Ax",
        "outputId": "278c2358-56f3-4bc2-db9b-524030b348d8"
      },
      "execution_count": 37,
      "outputs": [
        {
          "output_type": "stream",
          "name": "stdout",
          "text": [
            "Training Score :  0.9258236409034742\n",
            "Validation Score :  0.9167036259101314\n"
          ]
        },
        {
          "output_type": "stream",
          "name": "stderr",
          "text": [
            "/usr/local/lib/python3.7/dist-packages/sklearn/tree/_classes.py:363: FutureWarning: Criterion 'mse' was deprecated in v1.0 and will be removed in version 1.2. Use `criterion='squared_error'` which is equivalent.\n",
            "  FutureWarning,\n",
            "/usr/local/lib/python3.7/dist-packages/sklearn/tree/_classes.py:363: FutureWarning: Criterion 'mse' was deprecated in v1.0 and will be removed in version 1.2. Use `criterion='squared_error'` which is equivalent.\n",
            "  FutureWarning,\n",
            "/usr/local/lib/python3.7/dist-packages/sklearn/tree/_classes.py:363: FutureWarning: Criterion 'mse' was deprecated in v1.0 and will be removed in version 1.2. Use `criterion='squared_error'` which is equivalent.\n",
            "  FutureWarning,\n",
            "/usr/local/lib/python3.7/dist-packages/sklearn/tree/_classes.py:363: FutureWarning: Criterion 'mse' was deprecated in v1.0 and will be removed in version 1.2. Use `criterion='squared_error'` which is equivalent.\n",
            "  FutureWarning,\n",
            "/usr/local/lib/python3.7/dist-packages/sklearn/tree/_classes.py:363: FutureWarning: Criterion 'mse' was deprecated in v1.0 and will be removed in version 1.2. Use `criterion='squared_error'` which is equivalent.\n",
            "  FutureWarning,\n"
          ]
        },
        {
          "output_type": "stream",
          "name": "stdout",
          "text": [
            "Cross Validation Score :  0.9136353926255023\n",
            "R2_Score :  0.9102001153376219\n",
            "RMSLE :  0.03756398922774271\n"
          ]
        }
      ]
    },
    {
      "cell_type": "markdown",
      "source": [
        "Our Goal is to reduce the value of loss function (RMSLE) as much as possible considering NULL RMSLE into account, i.e, 0.1146"
      ],
      "metadata": {
        "id": "G0CQ5HD8B42b"
      }
    },
    {
      "cell_type": "code",
      "source": [
        "#prediction vs real data\n",
        "\n",
        "plt.figure(figsize=(15,8))\n",
        "plt.subplot(1,1,1)\n",
        "sns.distplot(y_test, kde=False, color=\"black\", label=\"Test\")\n",
        "\n",
        "plt.subplot(1,1,1)\n",
        "sns.distplot(dt_pred, kde=False, color=\"cyan\", label=\"Prediction\")\n",
        "plt.legend()\n",
        "plt.title(\"Test VS Prediction\")"
      ],
      "metadata": {
        "colab": {
          "base_uri": "https://localhost:8080/",
          "height": 606
        },
        "id": "hIwWtZNtA6wV",
        "outputId": "be055339-994f-4803-b769-1e578faa7f6b"
      },
      "execution_count": 38,
      "outputs": [
        {
          "output_type": "stream",
          "name": "stderr",
          "text": [
            "/usr/local/lib/python3.7/dist-packages/seaborn/distributions.py:2619: FutureWarning: `distplot` is a deprecated function and will be removed in a future version. Please adapt your code to use either `displot` (a figure-level function with similar flexibility) or `histplot` (an axes-level function for histograms).\n",
            "  warnings.warn(msg, FutureWarning)\n",
            "/usr/local/lib/python3.7/dist-packages/ipykernel_launcher.py:7: MatplotlibDeprecationWarning: Adding an axes using the same arguments as a previous axes currently reuses the earlier instance.  In a future version, a new instance will always be created and returned.  Meanwhile, this warning can be suppressed, and the future behavior ensured, by passing a unique label to each axes instance.\n",
            "  import sys\n"
          ]
        },
        {
          "output_type": "execute_result",
          "data": {
            "text/plain": [
              "Text(0.5, 1.0, 'Test VS Prediction')"
            ]
          },
          "metadata": {},
          "execution_count": 38
        },
        {
          "output_type": "display_data",
          "data": {
            "text/plain": [
              "<Figure size 1080x576 with 1 Axes>"
            ],
            "image/png": "[encoded data removed]"
          },
          "metadata": {
            "needs_background": "light"
          }
        }
      ]
    },
    {
      "cell_type": "markdown",
      "source": [
        "From the above Viz. we can clearly identify that the Decision Tree Algorithm is performing good. The Actual Data (in Grey) and Predicted values (in Red) are as close as possible. We can conclude that Decision Tree could be a good choice for Trip duration prediction."
      ],
      "metadata": {
        "id": "TVB_tYpSCBsn"
      }
    },
    {
      "cell_type": "markdown",
      "source": [
        "**Parameter Tuning Decision Tree**"
      ],
      "metadata": {
        "id": "HxAIY8yPCGpD"
      }
    },
    {
      "cell_type": "markdown",
      "source": [
        "We can perform some hyper tuning on our Algorithm to get the most out of it, Hyper Tuning might consume lot of time and resources of the system depending upon the how big the Data we have and what algorithm we're using. It will go through number of Iterations and try to come up with the best possible value for us."
      ],
      "metadata": {
        "id": "pNGMyejdCNZb"
      }
    },
    {
      "cell_type": "code",
      "source": [
        "#hyper parameter tuning\n",
        "\n",
        "'''params = {'max_depth':[10,11,12,None], \"min_samples_split\":[2,3,4,5], 'max_features':[2,5,7,10]}\n",
        "\n",
        "grid = GridSearchCV(est_dt, params, cv=5)\n",
        "grid.fit(X_train, y_train)\n",
        "grid_pred = grid.predict(X_test)\n",
        "print (grid_pred)\n",
        "grid.best_params_'''"
      ],
      "metadata": {
        "colab": {
          "base_uri": "https://localhost:8080/",
          "height": 52
        },
        "id": "G_PrkZbnB9CN",
        "outputId": "c3cfc846-3639-419f-b344-1188350f1e0e"
      },
      "execution_count": 39,
      "outputs": [
        {
          "output_type": "execute_result",
          "data": {
            "text/plain": [
              "'params = {\\'max_depth\\':[10,11,12,None], \"min_samples_split\":[2,3,4,5], \\'max_features\\':[2,5,7,10]}\\n\\ngrid = GridSearchCV(est_dt, params, cv=5)\\ngrid.fit(X_train, y_train)\\ngrid_pred = grid.predict(X_test)\\nprint (grid_pred)\\ngrid.best_params_'"
            ],
            "application/vnd.google.colaboratory.intrinsic+json": {
              "type": "string"
            }
          },
          "metadata": {},
          "execution_count": 39
        }
      ]
    },
    {
      "cell_type": "markdown",
      "source": [
        "Random Forest"
      ],
      "metadata": {
        "id": "VB6uKDIYCVZY"
      }
    },
    {
      "cell_type": "markdown",
      "source": [
        "Now, Let us also try Random Forest on our Data and see what do we get."
      ],
      "metadata": {
        "id": "faBQT7mSCZ4G"
      }
    },
    {
      "cell_type": "code",
      "source": [
        "#random forest implementation\n",
        "\n",
        "from sklearn.ensemble import RandomForestRegressor\n",
        "\n",
        "est_rf = RandomForestRegressor(criterion=\"mse\", n_estimators=5, max_depth=10)\n",
        "est_rf.fit(X_train, y_train)\n",
        "rf_pred = est_rf.predict(X_test)\n",
        "rf_pred"
      ],
      "metadata": {
        "colab": {
          "base_uri": "https://localhost:8080/"
        },
        "id": "o9wAJcgMCRHq",
        "outputId": "754e9c81-2842-4847-f404-28edb086057f"
      },
      "execution_count": 40,
      "outputs": [
        {
          "output_type": "stream",
          "name": "stderr",
          "text": [
            "/usr/local/lib/python3.7/dist-packages/sklearn/ensemble/_forest.py:400: FutureWarning: Criterion 'mse' was deprecated in v1.0 and will be removed in version 1.2. Use `criterion='squared_error'` which is equivalent.\n",
            "  FutureWarning,\n"
          ]
        },
        {
          "output_type": "execute_result",
          "data": {
            "text/plain": [
              "array([6.58697633, 7.51300711, 6.15464975, ..., 6.96319046, 7.64974805,\n",
              "       6.51948356])"
            ]
          },
          "metadata": {},
          "execution_count": 40
        }
      ]
    },
    {
      "cell_type": "code",
      "source": [
        "#examining metrics \n",
        "\n",
        "print (\"Training Score : \" , est_rf.score(X_train, y_train))\n",
        "\n",
        "print (\"Validation Score : \", est_rf.score(X_test, y_test))\n",
        "\n",
        "print (\"Cross Validation Score : \" , cross_val_score(est_rf, X_train, y_train, cv=5).mean())\n",
        "\n",
        "print (\"R2_Score : \", r2_score(rf_pred, y_test))\n",
        "\n",
        "print (\"RMSLE : \", np.sqrt(mean_squared_log_error(rf_pred, y_test)))"
      ],
      "metadata": {
        "colab": {
          "base_uri": "https://localhost:8080/"
        },
        "id": "Ea_lKZLDCdHo",
        "outputId": "23b92e6a-3887-4440-bb4a-6e059db52432"
      },
      "execution_count": 41,
      "outputs": [
        {
          "output_type": "stream",
          "name": "stdout",
          "text": [
            "Training Score :  0.9303051031280113\n",
            "Validation Score :  0.9249811728853433\n"
          ]
        },
        {
          "output_type": "stream",
          "name": "stderr",
          "text": [
            "/usr/local/lib/python3.7/dist-packages/sklearn/ensemble/_forest.py:400: FutureWarning: Criterion 'mse' was deprecated in v1.0 and will be removed in version 1.2. Use `criterion='squared_error'` which is equivalent.\n",
            "  FutureWarning,\n",
            "/usr/local/lib/python3.7/dist-packages/sklearn/ensemble/_forest.py:400: FutureWarning: Criterion 'mse' was deprecated in v1.0 and will be removed in version 1.2. Use `criterion='squared_error'` which is equivalent.\n",
            "  FutureWarning,\n",
            "/usr/local/lib/python3.7/dist-packages/sklearn/ensemble/_forest.py:400: FutureWarning: Criterion 'mse' was deprecated in v1.0 and will be removed in version 1.2. Use `criterion='squared_error'` which is equivalent.\n",
            "  FutureWarning,\n",
            "/usr/local/lib/python3.7/dist-packages/sklearn/ensemble/_forest.py:400: FutureWarning: Criterion 'mse' was deprecated in v1.0 and will be removed in version 1.2. Use `criterion='squared_error'` which is equivalent.\n",
            "  FutureWarning,\n",
            "/usr/local/lib/python3.7/dist-packages/sklearn/ensemble/_forest.py:400: FutureWarning: Criterion 'mse' was deprecated in v1.0 and will be removed in version 1.2. Use `criterion='squared_error'` which is equivalent.\n",
            "  FutureWarning,\n"
          ]
        },
        {
          "output_type": "stream",
          "name": "stdout",
          "text": [
            "Cross Validation Score :  0.9229892909349804\n",
            "R2_Score :  0.9182137203848534\n",
            "RMSLE :  0.035929198218400696\n"
          ]
        }
      ]
    },
    {
      "cell_type": "code",
      "source": [
        "#prediction vs real data\n",
        "\n",
        "plt.figure(figsize=(15,8))\n",
        "plt.subplot(1,1,1)\n",
        "sns.distplot(y_test, kde=False, color=\"black\", label=\"Test\")\n",
        "\n",
        "plt.subplot(1,1,1)\n",
        "sns.distplot(rf_pred, kde=False, color=\"indigo\", label=\"Prediction\")\n",
        "plt.legend()\n",
        "plt.title(\"Test VS Prediction\")"
      ],
      "metadata": {
        "colab": {
          "base_uri": "https://localhost:8080/",
          "height": 606
        },
        "id": "l0U0hAsACkqg",
        "outputId": "edbb1726-8a54-48e8-a548-d302192eca95"
      },
      "execution_count": 42,
      "outputs": [
        {
          "output_type": "stream",
          "name": "stderr",
          "text": [
            "/usr/local/lib/python3.7/dist-packages/seaborn/distributions.py:2619: FutureWarning: `distplot` is a deprecated function and will be removed in a future version. Please adapt your code to use either `displot` (a figure-level function with similar flexibility) or `histplot` (an axes-level function for histograms).\n",
            "  warnings.warn(msg, FutureWarning)\n",
            "/usr/local/lib/python3.7/dist-packages/ipykernel_launcher.py:7: MatplotlibDeprecationWarning: Adding an axes using the same arguments as a previous axes currently reuses the earlier instance.  In a future version, a new instance will always be created and returned.  Meanwhile, this warning can be suppressed, and the future behavior ensured, by passing a unique label to each axes instance.\n",
            "  import sys\n"
          ]
        },
        {
          "output_type": "execute_result",
          "data": {
            "text/plain": [
              "Text(0.5, 1.0, 'Test VS Prediction')"
            ]
          },
          "metadata": {},
          "execution_count": 42
        },
        {
          "output_type": "display_data",
          "data": {
            "text/plain": [
              "<Figure size 1080x576 with 1 Axes>"
            ],
            "image/png": "[encoded data removed]"
          },
          "metadata": {
            "needs_background": "light"
          }
        }
      ]
    },
    {
      "cell_type": "markdown",
      "source": [
        "From the above Viz. we can clearly identify that the Random Forest Algorithm is also performing good. The Actual Data (in Grey) and Predicted values (in Green) are as close as possible. We can conclude that Random Forest could be a good choice for Trip duration prediction.\n",
        "Similarly, we can Hyper tune Random Forest to get the most out of it."
      ],
      "metadata": {
        "id": "MhY_Pr99EMzG"
      }
    },
    {
      "cell_type": "markdown",
      "source": [
        "R2 Scores Evaluation"
      ],
      "metadata": {
        "id": "g0Aly0GbEQL3"
      }
    },
    {
      "cell_type": "markdown",
      "source": [
        "R2 Score or R-Squared is the proportion of the variance in the dependent variable that is predictable from the independent variable(s).\n",
        "Best possible score is 1.0 and it can be negative (because the model can be arbitrarily worse). A constant model that always predicts the expected value of y, disregarding the input features, would get a R^2 score of 0.0."
      ],
      "metadata": {
        "id": "4VBRfKQnET0z"
      }
    },
    {
      "cell_type": "code",
      "source": [
        "#r2 score plot for all 3 models\n",
        "\n",
        "plt.figure(figsize=(10,7))\n",
        "r2 = pd.DataFrame({'Scores':np.array([r2_score(lr_pred, y_test), r2_score(dt_pred, y_test), r2_score(rf_pred, y_test)]), 'Model':np.array(['Linear Regression', 'Decison Tree', 'Random Forest'])})\n",
        "r2.set_index('Model').plot(kind=\"bar\", color=\"brown\")\n",
        "plt.axhline(y=0, color='g')\n",
        "plt.title(\"R2 Scores\")"
      ],
      "metadata": {
        "colab": {
          "base_uri": "https://localhost:8080/",
          "height": 409
        },
        "id": "vAarJGq6CmGr",
        "outputId": "dbd0bb78-4aab-43f8-da19-182bd8e4b691"
      },
      "execution_count": 43,
      "outputs": [
        {
          "output_type": "execute_result",
          "data": {
            "text/plain": [
              "Text(0.5, 1.0, 'R2 Scores')"
            ]
          },
          "metadata": {},
          "execution_count": 43
        },
        {
          "output_type": "display_data",
          "data": {
            "text/plain": [
              "<Figure size 720x504 with 0 Axes>"
            ]
          },
          "metadata": {}
        },
        {
          "output_type": "display_data",
          "data": {
            "text/plain": [
              "<Figure size 432x288 with 1 Axes>"
            ],
            "image/png": "[encoded data removed]"
          },
          "metadata": {
            "needs_background": "light"
          }
        }
      ]
    },
    {
      "cell_type": "markdown",
      "source": [
        "Although , our Evaluation Metric isn't R2 Score but I'm just plotting them to check the Good Fit.\n",
        "We're getting good fit score for Decision Tree and Random Forest , i.e, close to 1.0"
      ],
      "metadata": {
        "id": "Uh78Nw34Eajy"
      }
    },
    {
      "cell_type": "markdown",
      "source": [
        "RMSLE Evaluation"
      ],
      "metadata": {
        "id": "evExBBaqFJvW"
      }
    },
    {
      "cell_type": "code",
      "source": [
        "#RMSLE plot\n",
        "\n",
        "plt.figure(figsize=(10,10))\n",
        "r2 = pd.DataFrame({'RMSLE':np.array([np.sqrt(mean_squared_log_error(dt_pred, y_test)), np.sqrt(mean_squared_log_error(rf_pred, y_test))]), 'Model':np.array(['Decison Tree', 'Random Forest'])})\n",
        "r2.set_index('Model').plot(kind=\"bar\", color=\"lightblue\", legend=False)\n",
        "plt.title(\"RMSLE - Lesser is Better\")"
      ],
      "metadata": {
        "colab": {
          "base_uri": "https://localhost:8080/",
          "height": 395
        },
        "id": "MfJa82GHCmSo",
        "outputId": "73d4e44d-da8d-46fc-bc14-e794be3e5615"
      },
      "execution_count": 44,
      "outputs": [
        {
          "output_type": "execute_result",
          "data": {
            "text/plain": [
              "Text(0.5, 1.0, 'RMSLE - Lesser is Better')"
            ]
          },
          "metadata": {},
          "execution_count": 44
        },
        {
          "output_type": "display_data",
          "data": {
            "text/plain": [
              "<Figure size 720x720 with 0 Axes>"
            ]
          },
          "metadata": {}
        },
        {
          "output_type": "display_data",
          "data": {
            "text/plain": [
              "<Figure size 432x288 with 1 Axes>"
            ],
            "image/png": "[encoded data removed]"
          },
          "metadata": {
            "needs_background": "light"
          }
        }
      ]
    },
    {
      "cell_type": "markdown",
      "source": [
        "Remember our NULL RMSLE : 0.1146 as a benchmark to beat.\n",
        "We can observe from above Viz. that our Decision Tree model and Random Forest model are good performers. As, Random Forest is providing us reduced RMSLE, we can say that it's a model to Opt for."
      ],
      "metadata": {
        "id": "jLP_Eg9nFVjl"
      }
    },
    {
      "cell_type": "markdown",
      "source": [
        "The Second Approach - Without PCA"
      ],
      "metadata": {
        "id": "xYL6C8esFajG"
      }
    },
    {
      "cell_type": "markdown",
      "source": [
        "Another approach we could go with is without PCA, just Standard Scaling Dataset and applying our Algorithms.\n",
        "The approach can give us better idea of what works better for us.\n",
        "This approach might take great amount of computational resources and time, it will be good if we can run this on Google’s Collaboratory, that will eliminate huge computational stress on our system as the program will be running on Cloud."
      ],
      "metadata": {
        "id": "WbFpwagQFent"
      }
    },
    {
      "cell_type": "code",
      "source": [
        "X = new_df\n",
        "y = np.log(nyc_taxi_df['trip_duration']).values"
      ],
      "metadata": {
        "id": "E4I8vAWCFQiZ"
      },
      "execution_count": 45,
      "outputs": []
    },
    {
      "cell_type": "markdown",
      "source": [
        "Linear Regression"
      ],
      "metadata": {
        "id": "kBing1AQFo6C"
      }
    },
    {
      "cell_type": "code",
      "source": [
        "#train test split\n",
        "\n",
        "X_train, X_test, y_train, y_test = train_test_split(X, y, test_size=0.30, random_state=10)"
      ],
      "metadata": {
        "id": "jj3yCFv-FjcR"
      },
      "execution_count": 46,
      "outputs": []
    },
    {
      "cell_type": "code",
      "source": [
        "#implenting linear regression\n",
        "\n",
        "est_lr = LinearRegression()\n",
        "est_lr.fit(X_train, y_train)\n",
        "lr_pred = est_lr.predict(X_test)\n",
        "lr_pred"
      ],
      "metadata": {
        "colab": {
          "base_uri": "https://localhost:8080/"
        },
        "id": "N0ECxmrlFtK6",
        "outputId": "324f8b7f-36a4-4db7-cce1-d733161f2ef2"
      },
      "execution_count": 47,
      "outputs": [
        {
          "output_type": "execute_result",
          "data": {
            "text/plain": [
              "array([6.40343909, 6.41676214, 6.59381897, ..., 6.49082468, 6.42025967,\n",
              "       6.52937071])"
            ]
          },
          "metadata": {},
          "execution_count": 47
        }
      ]
    },
    {
      "cell_type": "code",
      "source": [
        "#Intercept & Coef\n",
        "\n",
        "est_lr.intercept_, est_lr.coef_"
      ],
      "metadata": {
        "colab": {
          "base_uri": "https://localhost:8080/"
        },
        "id": "9pS3O5S6FwBi",
        "outputId": "628eb35c-f5f2-47eb-de12-083ddf485b09"
      },
      "execution_count": 48,
      "outputs": [
        {
          "output_type": "execute_result",
          "data": {
            "text/plain": [
              "(6.464247207867887,\n",
              " array([ 0.01332765,  0.01305239,  0.08660911, -0.08525532, -0.00461665,\n",
              "        -0.07103285,  0.01048801,  0.0078414 ,  0.03622542,  0.03069419,\n",
              "        -0.00763574, -0.02189191, -0.00063054]))"
            ]
          },
          "metadata": {},
          "execution_count": 48
        }
      ]
    },
    {
      "cell_type": "code",
      "source": [
        "#Examining metrics\n",
        "\n",
        "print (\"Training Score : \" , est_lr.score(X_train, y_train))\n",
        "\n",
        "print (\"Validation Score : \", est_lr.score(X_test, y_test))\n",
        "\n",
        "print (\"Cross Validation Score : \" , cross_val_score(est_lr, X_train, y_train, cv=5).mean())\n",
        "\n",
        "print (\"R2_Score : \", r2_score(lr_pred, y_test))\n",
        "\n",
        "#print (\"RMSLE : \", np.sqrt(mean_squared_log_error(lr_pred, y_test)))"
      ],
      "metadata": {
        "colab": {
          "base_uri": "https://localhost:8080/"
        },
        "id": "Gcz8BfKVFzY8",
        "outputId": "8d734fff-ee89-4c93-8276-4c6dd30d319a"
      },
      "execution_count": 49,
      "outputs": [
        {
          "output_type": "stream",
          "name": "stdout",
          "text": [
            "Training Score :  0.04347306142666196\n",
            "Validation Score :  0.04509248495913276\n",
            "Cross Validation Score :  -0.048701119150320916\n",
            "R2_Score :  -22.456173569923347\n"
          ]
        }
      ]
    },
    {
      "cell_type": "code",
      "source": [
        "#prediction vs validation data\n",
        "\n",
        "plt.figure(figsize=(15,8))\n",
        "plt.subplot(1,1,1)\n",
        "sns.distplot(y_test, kde=False, color=\"black\", label=\"Test\")\n",
        "\n",
        "plt.subplot(1,1,1)\n",
        "sns.distplot(lr_pred, kde=False, color=\"g\", label=\"Prediction\")\n",
        "plt.legend()\n",
        "plt.title(\"Test VS Prediction\")"
      ],
      "metadata": {
        "colab": {
          "base_uri": "https://localhost:8080/",
          "height": 606
        },
        "id": "vItvfcvaF3LZ",
        "outputId": "26ea817b-1e8a-442d-c550-4ea180e8eb6c"
      },
      "execution_count": 50,
      "outputs": [
        {
          "output_type": "stream",
          "name": "stderr",
          "text": [
            "/usr/local/lib/python3.7/dist-packages/seaborn/distributions.py:2619: FutureWarning: `distplot` is a deprecated function and will be removed in a future version. Please adapt your code to use either `displot` (a figure-level function with similar flexibility) or `histplot` (an axes-level function for histograms).\n",
            "  warnings.warn(msg, FutureWarning)\n",
            "/usr/local/lib/python3.7/dist-packages/ipykernel_launcher.py:7: MatplotlibDeprecationWarning: Adding an axes using the same arguments as a previous axes currently reuses the earlier instance.  In a future version, a new instance will always be created and returned.  Meanwhile, this warning can be suppressed, and the future behavior ensured, by passing a unique label to each axes instance.\n",
            "  import sys\n"
          ]
        },
        {
          "output_type": "execute_result",
          "data": {
            "text/plain": [
              "Text(0.5, 1.0, 'Test VS Prediction')"
            ]
          },
          "metadata": {},
          "execution_count": 50
        },
        {
          "output_type": "display_data",
          "data": {
            "text/plain": [
              "<Figure size 1080x576 with 1 Axes>"
            ],
            "image/png": "[encoded data removed]"
          },
          "metadata": {
            "needs_background": "light"
          }
        }
      ]
    },
    {
      "cell_type": "markdown",
      "source": [
        "Observations shows us that Linear Regression isn't performing well even with the second (without PCA) Approach."
      ],
      "metadata": {
        "id": "R__k1-GUF9_-"
      }
    },
    {
      "cell_type": "markdown",
      "source": [
        "Decision Tree"
      ],
      "metadata": {
        "id": "paZ7k6muGCb1"
      }
    },
    {
      "cell_type": "code",
      "source": [
        "#decision tree implementation\n",
        "\n",
        "est_dt = DecisionTreeRegressor(criterion=\"mse\", max_depth=10)\n",
        "est_dt.fit(X_train, y_train)\n",
        "dt_pred = est_dt.predict(X_test)\n",
        "dt_pred"
      ],
      "metadata": {
        "colab": {
          "base_uri": "https://localhost:8080/"
        },
        "id": "VSJw0dyeF6MO",
        "outputId": "c03d75ab-2850-491d-c7ca-016c562f8245"
      },
      "execution_count": 51,
      "outputs": [
        {
          "output_type": "stream",
          "name": "stderr",
          "text": [
            "/usr/local/lib/python3.7/dist-packages/sklearn/tree/_classes.py:363: FutureWarning: Criterion 'mse' was deprecated in v1.0 and will be removed in version 1.2. Use `criterion='squared_error'` which is equivalent.\n",
            "  FutureWarning,\n"
          ]
        },
        {
          "output_type": "execute_result",
          "data": {
            "text/plain": [
              "array([6.03176878, 7.19731925, 6.45954009, ..., 6.15490363, 7.19731925,\n",
              "       7.17617183])"
            ]
          },
          "metadata": {},
          "execution_count": 51
        }
      ]
    },
    {
      "cell_type": "code",
      "source": [
        "#examining metrics\n",
        "\n",
        "print (\"Training Score : \" , est_dt.score(X_train, y_train))\n",
        "\n",
        "print (\"Validation Score : \", est_dt.score(X_test, y_test))\n",
        "\n",
        "print (\"Cross Validation Score : \" , cross_val_score(est_dt, X_train, y_train, cv=5).mean())\n",
        "\n",
        "print (\"R2_Score : \", r2_score(dt_pred, y_test))\n",
        "\n",
        "print (\"RMSLE : \", np.sqrt(mean_squared_log_error(dt_pred, y_test)))"
      ],
      "metadata": {
        "colab": {
          "base_uri": "https://localhost:8080/"
        },
        "id": "4JJT5xShGFr-",
        "outputId": "5810ede0-3ae3-4e26-8ff1-9e7ef18efb05"
      },
      "execution_count": 52,
      "outputs": [
        {
          "output_type": "stream",
          "name": "stdout",
          "text": [
            "Training Score :  0.4643053926882249\n",
            "Validation Score :  0.4574432137621195\n"
          ]
        },
        {
          "output_type": "stream",
          "name": "stderr",
          "text": [
            "/usr/local/lib/python3.7/dist-packages/sklearn/tree/_classes.py:363: FutureWarning: Criterion 'mse' was deprecated in v1.0 and will be removed in version 1.2. Use `criterion='squared_error'` which is equivalent.\n",
            "  FutureWarning,\n",
            "/usr/local/lib/python3.7/dist-packages/sklearn/tree/_classes.py:363: FutureWarning: Criterion 'mse' was deprecated in v1.0 and will be removed in version 1.2. Use `criterion='squared_error'` which is equivalent.\n",
            "  FutureWarning,\n",
            "/usr/local/lib/python3.7/dist-packages/sklearn/tree/_classes.py:363: FutureWarning: Criterion 'mse' was deprecated in v1.0 and will be removed in version 1.2. Use `criterion='squared_error'` which is equivalent.\n",
            "  FutureWarning,\n",
            "/usr/local/lib/python3.7/dist-packages/sklearn/tree/_classes.py:363: FutureWarning: Criterion 'mse' was deprecated in v1.0 and will be removed in version 1.2. Use `criterion='squared_error'` which is equivalent.\n",
            "  FutureWarning,\n",
            "/usr/local/lib/python3.7/dist-packages/sklearn/tree/_classes.py:363: FutureWarning: Criterion 'mse' was deprecated in v1.0 and will be removed in version 1.2. Use `criterion='squared_error'` which is equivalent.\n",
            "  FutureWarning,\n"
          ]
        },
        {
          "output_type": "stream",
          "name": "stdout",
          "text": [
            "Cross Validation Score :  0.4574985300877391\n",
            "R2_Score :  -0.16178425405853814\n",
            "RMSLE :  0.08786396748843367\n"
          ]
        }
      ]
    },
    {
      "cell_type": "markdown",
      "source": [
        "This time our decision tree model is not trained well as we can identify from scores, training score and cross validation score is close to 0.45 compared to last model where it was around 0.92."
      ],
      "metadata": {
        "id": "_bdY6T2IGN6J"
      }
    },
    {
      "cell_type": "code",
      "source": [
        "#prediction vs reality check\n",
        "\n",
        "plt.figure(figsize=(15,8))\n",
        "plt.subplot(1,1,1)\n",
        "sns.distplot(y_test, kde=False, color=\"black\", label=\"Test\")\n",
        "\n",
        "plt.subplot(1,1,1)\n",
        "sns.distplot(dt_pred, kde=False, color=\"cyan\", label=\"Prediction\")\n",
        "plt.legend()\n",
        "plt.title(\"Test VS Prediction\")"
      ],
      "metadata": {
        "colab": {
          "base_uri": "https://localhost:8080/",
          "height": 606
        },
        "id": "CrNE5WkgGJvF",
        "outputId": "4ff7c563-1c03-4e84-b00d-fe48ca88f121"
      },
      "execution_count": 53,
      "outputs": [
        {
          "output_type": "stream",
          "name": "stderr",
          "text": [
            "/usr/local/lib/python3.7/dist-packages/seaborn/distributions.py:2619: FutureWarning: `distplot` is a deprecated function and will be removed in a future version. Please adapt your code to use either `displot` (a figure-level function with similar flexibility) or `histplot` (an axes-level function for histograms).\n",
            "  warnings.warn(msg, FutureWarning)\n",
            "/usr/local/lib/python3.7/dist-packages/ipykernel_launcher.py:7: MatplotlibDeprecationWarning: Adding an axes using the same arguments as a previous axes currently reuses the earlier instance.  In a future version, a new instance will always be created and returned.  Meanwhile, this warning can be suppressed, and the future behavior ensured, by passing a unique label to each axes instance.\n",
            "  import sys\n"
          ]
        },
        {
          "output_type": "execute_result",
          "data": {
            "text/plain": [
              "Text(0.5, 1.0, 'Test VS Prediction')"
            ]
          },
          "metadata": {},
          "execution_count": 53
        },
        {
          "output_type": "display_data",
          "data": {
            "text/plain": [
              "<Figure size 1080x576 with 1 Axes>"
            ],
            "image/png": "[encoded data removed]"
          },
          "metadata": {
            "needs_background": "light"
          }
        }
      ]
    },
    {
      "cell_type": "markdown",
      "source": [
        "Considering our Null RMSLE 0.1146, this model gave us loss of 0.0878, we can say it is good but not the acceptable, knowing the fact that we got RMSLE of 0.037 in previous approach where we applied PCA."
      ],
      "metadata": {
        "id": "LasGho9jGzRt"
      }
    },
    {
      "cell_type": "code",
      "source": [
        ""
      ],
      "metadata": {
        "id": "QavhP1AcGoLJ"
      },
      "execution_count": null,
      "outputs": []
    },
    {
      "cell_type": "markdown",
      "source": [
        "Random Forest"
      ],
      "metadata": {
        "id": "-5Z62PDwG4KL"
      }
    },
    {
      "cell_type": "code",
      "source": [
        "#implementation of forest algorithm\n",
        "\n",
        "from sklearn.ensemble import RandomForestRegressor\n",
        "\n",
        "est_rf = RandomForestRegressor(criterion=\"mse\", n_estimators=5, max_depth=10)\n",
        "est_rf.fit(X_train, y_train)\n",
        "rf_pred = est_rf.predict(X_test)\n",
        "rf_pred"
      ],
      "metadata": {
        "colab": {
          "base_uri": "https://localhost:8080/"
        },
        "id": "Hb-sfFl3G5fD",
        "outputId": "4d693d37-e616-44de-b43b-1669f151eedb"
      },
      "execution_count": 54,
      "outputs": [
        {
          "output_type": "stream",
          "name": "stderr",
          "text": [
            "/usr/local/lib/python3.7/dist-packages/sklearn/ensemble/_forest.py:400: FutureWarning: Criterion 'mse' was deprecated in v1.0 and will be removed in version 1.2. Use `criterion='squared_error'` which is equivalent.\n",
            "  FutureWarning,\n"
          ]
        },
        {
          "output_type": "execute_result",
          "data": {
            "text/plain": [
              "array([6.04550346, 7.19954356, 6.28232356, ..., 6.14731101, 7.19954356,\n",
              "       7.16537128])"
            ]
          },
          "metadata": {},
          "execution_count": 54
        }
      ]
    },
    {
      "cell_type": "code",
      "source": [
        "#examining metrics\n",
        "\n",
        "print (\"Training Score : \" , est_rf.score(X_train, y_train))\n",
        "\n",
        "print (\"Validation Score : \", est_rf.score(X_test, y_test))\n",
        "\n",
        "print (\"Cross Validation Score : \" , cross_val_score(est_rf, X_train, y_train, cv=5).mean())\n",
        "\n",
        "print (\"R2_Score : \", r2_score(rf_pred, y_test))\n",
        "\n",
        "print (\"RMSLE : \", np.sqrt(mean_squared_log_error(rf_pred, y_test)))"
      ],
      "metadata": {
        "colab": {
          "base_uri": "https://localhost:8080/"
        },
        "id": "NQKEVxbOG5iY",
        "outputId": "9c687ce2-c0e9-4339-a310-8995ba0e2846"
      },
      "execution_count": 55,
      "outputs": [
        {
          "output_type": "stream",
          "name": "stdout",
          "text": [
            "Training Score :  0.4752305083402748\n",
            "Validation Score :  0.46982024429557234\n"
          ]
        },
        {
          "output_type": "stream",
          "name": "stderr",
          "text": [
            "/usr/local/lib/python3.7/dist-packages/sklearn/ensemble/_forest.py:400: FutureWarning: Criterion 'mse' was deprecated in v1.0 and will be removed in version 1.2. Use `criterion='squared_error'` which is equivalent.\n",
            "  FutureWarning,\n",
            "/usr/local/lib/python3.7/dist-packages/sklearn/ensemble/_forest.py:400: FutureWarning: Criterion 'mse' was deprecated in v1.0 and will be removed in version 1.2. Use `criterion='squared_error'` which is equivalent.\n",
            "  FutureWarning,\n",
            "/usr/local/lib/python3.7/dist-packages/sklearn/ensemble/_forest.py:400: FutureWarning: Criterion 'mse' was deprecated in v1.0 and will be removed in version 1.2. Use `criterion='squared_error'` which is equivalent.\n",
            "  FutureWarning,\n",
            "/usr/local/lib/python3.7/dist-packages/sklearn/ensemble/_forest.py:400: FutureWarning: Criterion 'mse' was deprecated in v1.0 and will be removed in version 1.2. Use `criterion='squared_error'` which is equivalent.\n",
            "  FutureWarning,\n",
            "/usr/local/lib/python3.7/dist-packages/sklearn/ensemble/_forest.py:400: FutureWarning: Criterion 'mse' was deprecated in v1.0 and will be removed in version 1.2. Use `criterion='squared_error'` which is equivalent.\n",
            "  FutureWarning,\n"
          ]
        },
        {
          "output_type": "stream",
          "name": "stdout",
          "text": [
            "Cross Validation Score :  0.4708856730848937\n",
            "R2_Score :  -0.1755656000331287\n",
            "RMSLE :  0.0870449758477327\n"
          ]
        }
      ]
    },
    {
      "cell_type": "code",
      "source": [
        "#prediction vs reality check\n",
        "\n",
        "plt.figure(figsize=(15,8))\n",
        "plt.subplot(1,1,1)\n",
        "sns.distplot(y_test, kde=False, color=\"black\", label=\"Test\")\n",
        "\n",
        "plt.subplot(1,1,1)\n",
        "sns.distplot(rf_pred, kde=False, color=\"indigo\", label=\"Prediction\")\n",
        "plt.legend()\n",
        "plt.title(\"Test VS Prediction\")"
      ],
      "metadata": {
        "id": "-PL52W4QHLHZ"
      },
      "execution_count": null,
      "outputs": []
    },
    {
      "cell_type": "code",
      "source": [
        ""
      ],
      "metadata": {
        "id": "MunZFUhyHbJ7"
      },
      "execution_count": null,
      "outputs": []
    },
    {
      "cell_type": "markdown",
      "source": [
        "Again the loss value we got here is 0.0870 is good when tried to match with Decision Tree's RMSLE ,i.e, 0.0878. But still could be reduced by PCA Approach or maybe Hyper parameter tuning."
      ],
      "metadata": {
        "id": "8uLTfvoYHV6e"
      }
    },
    {
      "cell_type": "code",
      "source": [
        "#r2 score plot for all 3 models\n",
        "\n",
        "plt.figure(figsize=(8,7))\n",
        "r2 = pd.DataFrame({'Scores':np.array([r2_score(lr_pred, y_test), r2_score(dt_pred, y_test), r2_score(rf_pred, y_test)]), 'Model':np.array(['Linear Regression', 'Decison Tree', 'Random Forest'])})\n",
        "r2.set_index('Model').plot(kind=\"bar\", color=\"maroon\")\n",
        "plt.axhline(y=0, color='g')\n",
        "plt.title(\"R2 Scores\")"
      ],
      "metadata": {
        "id": "pTrSuhN2Hdr8"
      },
      "execution_count": null,
      "outputs": []
    },
    {
      "cell_type": "code",
      "source": [
        "#RMSLE plot\n",
        "\n",
        "plt.figure(figsize=(8,7))\n",
        "r2 = pd.DataFrame({'RMSLE':np.array([np.sqrt(mean_squared_log_error(dt_pred, y_test)), np.sqrt(mean_squared_log_error(rf_pred, y_test))]), 'Model':np.array(['Decison Tree', 'Random Forest'])})\n",
        "r2.set_index('Model').plot(kind=\"bar\", color=\"skyblue\", legend=False)\n",
        "plt.title(\"RMSLE - Lesser is Better\")"
      ],
      "metadata": {
        "id": "1aLWGK2vHi19"
      },
      "execution_count": null,
      "outputs": []
    },
    {
      "cell_type": "markdown",
      "source": [
        "What's better - Decision Tree or Random Forest ?\n",
        "One problem that might occur with Decision Tree is that it can overfit.\n",
        "Difference is - A random forest is a collection of decision trees.\n",
        "A decision tree model considers all the features which makes it memorize everything, it gets overfitted on training data which couldn't predict well on unseen data.\n",
        "A random forest chooses few number of rows at random and interprets results from all the Tress and combines it to get more accurate and stable final result.\n",
        "Insights:\n",
        "Observed which taxi service provider is most Frequently used by New Yorkers.\n",
        "Found out few trips which were of duration 528 Hours to 972 Hours, possibly Outliers.\n",
        "With the help of Tableau, we’re able to make good use of Geographical Data provided in the Dataset to figure prominent Locations of Taxi’s pickup / dropoff points.\n",
        "Also, found out some Trips of which pickup / dropoff point ended up somewhere in North Atlantic Sea.\n",
        "Passenger count Analysis showed us that there were few trips with Zero Passengers.\n",
        "Monthly trip analysis gives us a insight of Month – March and April marking the highest number of Trips while January marking lowest, possibly due to Snowfall.\n",
        "Recommended Approach:\n",
        "Apply Standard Scaling on the Dataset to Normalize the values.\n",
        "Further, Apply PCA to reduce dimensions, as you’ll extract features from our primary DateTime Feature. Those additional features might lead our model to suffer from “Curse of dimensionality” and could drastically affect performance.\n",
        "Pass the PCA Transformed data in our ML Regression Algorithms and Evaluate results.\n",
        "What's Next ?\n",
        "Further, one can improve the model's performance using Hyper-Parameter Tuning.\n",
        "Other ML Algorithms can be Tried.\n",
        "One can take ANN approach."
      ],
      "metadata": {
        "id": "u8QY2XTWHrw7"
      }
    }
  ]
}